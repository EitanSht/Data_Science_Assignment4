{
 "cells": [
  {
   "cell_type": "markdown",
   "metadata": {},
   "source": [
    "# Loan Prediction - Data Science Assignment"
   ]
  },
  {
   "cell_type": "markdown",
   "metadata": {},
   "source": [
    "#### Matlab inline"
   ]
  },
  {
   "cell_type": "code",
   "execution_count": 1,
   "metadata": {},
   "outputs": [
    {
     "name": "stdout",
     "output_type": "stream",
     "text": [
      "Populating the interactive namespace from numpy and matplotlib\n"
     ]
    }
   ],
   "source": [
    "%pylab inline"
   ]
  },
  {
   "cell_type": "markdown",
   "metadata": {},
   "source": [
    "#### Suppressing warnings"
   ]
  },
  {
   "cell_type": "code",
   "execution_count": 2,
   "metadata": {
    "collapsed": true
   },
   "outputs": [],
   "source": [
    "import warnings\n",
    "warnings.filterwarnings('ignore')"
   ]
  },
  {
   "cell_type": "markdown",
   "metadata": {},
   "source": [
    "#### Importing libraries"
   ]
  },
  {
   "cell_type": "code",
   "execution_count": 3,
   "metadata": {
    "collapsed": true
   },
   "outputs": [],
   "source": [
    "import pandas as pd\n",
    "import numpy as np\n",
    "import matplotlib as plt"
   ]
  },
  {
   "cell_type": "markdown",
   "metadata": {},
   "source": [
    "#### Loading the data"
   ]
  },
  {
   "cell_type": "code",
   "execution_count": 4,
   "metadata": {
    "collapsed": true
   },
   "outputs": [],
   "source": [
    "train = pd.read_csv(\"./data/train.csv\") \n",
    "test = pd.read_csv(\"./data/test.csv\") "
   ]
  },
  {
   "cell_type": "markdown",
   "metadata": {},
   "source": [
    "#### Creating a full dataframe"
   ]
  },
  {
   "cell_type": "code",
   "execution_count": 5,
   "metadata": {},
   "outputs": [
    {
     "data": {
      "text/plain": [
       "(981, 13)"
      ]
     },
     "execution_count": 5,
     "metadata": {},
     "output_type": "execute_result"
    }
   ],
   "source": [
    "frames = [train, test]\n",
    "full_df = pd.concat(frames)\n",
    "full_df.shape"
   ]
  },
  {
   "cell_type": "code",
   "execution_count": 6,
   "metadata": {
    "collapsed": true
   },
   "outputs": [],
   "source": [
    "cols = full_df.columns.tolist()\n",
    "cols = cols[-5:] + cols[:-5] # Shifting the LoanStatus column position to the left\n",
    "full_df = full_df[cols]"
   ]
  },
  {
   "cell_type": "markdown",
   "metadata": {},
   "source": [
    "### Ininital examination of the data"
   ]
  },
  {
   "cell_type": "code",
   "execution_count": 7,
   "metadata": {},
   "outputs": [
    {
     "data": {
      "text/html": [
       "<div>\n",
       "<style>\n",
       "    .dataframe thead tr:only-child th {\n",
       "        text-align: right;\n",
       "    }\n",
       "\n",
       "    .dataframe thead th {\n",
       "        text-align: left;\n",
       "    }\n",
       "\n",
       "    .dataframe tbody tr th {\n",
       "        vertical-align: top;\n",
       "    }\n",
       "</style>\n",
       "<table border=\"1\" class=\"dataframe\">\n",
       "  <thead>\n",
       "    <tr style=\"text-align: right;\">\n",
       "      <th></th>\n",
       "      <th>Loan_ID</th>\n",
       "      <th>Loan_Status</th>\n",
       "      <th>Married</th>\n",
       "      <th>Property_Area</th>\n",
       "      <th>Self_Employed</th>\n",
       "      <th>ApplicantIncome</th>\n",
       "      <th>CoapplicantIncome</th>\n",
       "      <th>Credit_History</th>\n",
       "      <th>Dependents</th>\n",
       "      <th>Education</th>\n",
       "      <th>Gender</th>\n",
       "      <th>LoanAmount</th>\n",
       "      <th>Loan_Amount_Term</th>\n",
       "    </tr>\n",
       "  </thead>\n",
       "  <tbody>\n",
       "    <tr>\n",
       "      <th>0</th>\n",
       "      <td>LP001002</td>\n",
       "      <td>Y</td>\n",
       "      <td>No</td>\n",
       "      <td>Urban</td>\n",
       "      <td>No</td>\n",
       "      <td>5849</td>\n",
       "      <td>0.0</td>\n",
       "      <td>1.0</td>\n",
       "      <td>0</td>\n",
       "      <td>Graduate</td>\n",
       "      <td>Male</td>\n",
       "      <td>NaN</td>\n",
       "      <td>360.0</td>\n",
       "    </tr>\n",
       "    <tr>\n",
       "      <th>1</th>\n",
       "      <td>LP001003</td>\n",
       "      <td>N</td>\n",
       "      <td>Yes</td>\n",
       "      <td>Rural</td>\n",
       "      <td>No</td>\n",
       "      <td>4583</td>\n",
       "      <td>1508.0</td>\n",
       "      <td>1.0</td>\n",
       "      <td>1</td>\n",
       "      <td>Graduate</td>\n",
       "      <td>Male</td>\n",
       "      <td>128.0</td>\n",
       "      <td>360.0</td>\n",
       "    </tr>\n",
       "  </tbody>\n",
       "</table>\n",
       "</div>"
      ],
      "text/plain": [
       "    Loan_ID Loan_Status Married Property_Area Self_Employed  ApplicantIncome  \\\n",
       "0  LP001002           Y      No         Urban            No             5849   \n",
       "1  LP001003           N     Yes         Rural            No             4583   \n",
       "\n",
       "   CoapplicantIncome  Credit_History Dependents Education Gender  LoanAmount  \\\n",
       "0                0.0             1.0          0  Graduate   Male         NaN   \n",
       "1             1508.0             1.0          1  Graduate   Male       128.0   \n",
       "\n",
       "   Loan_Amount_Term  \n",
       "0             360.0  \n",
       "1             360.0  "
      ]
     },
     "execution_count": 7,
     "metadata": {},
     "output_type": "execute_result"
    }
   ],
   "source": [
    "full_df.head(2)"
   ]
  },
  {
   "cell_type": "code",
   "execution_count": 8,
   "metadata": {},
   "outputs": [
    {
     "data": {
      "text/html": [
       "<div>\n",
       "<style>\n",
       "    .dataframe thead tr:only-child th {\n",
       "        text-align: right;\n",
       "    }\n",
       "\n",
       "    .dataframe thead th {\n",
       "        text-align: left;\n",
       "    }\n",
       "\n",
       "    .dataframe tbody tr th {\n",
       "        vertical-align: top;\n",
       "    }\n",
       "</style>\n",
       "<table border=\"1\" class=\"dataframe\">\n",
       "  <thead>\n",
       "    <tr style=\"text-align: right;\">\n",
       "      <th></th>\n",
       "      <th>ApplicantIncome</th>\n",
       "      <th>CoapplicantIncome</th>\n",
       "      <th>LoanAmount</th>\n",
       "      <th>Loan_Amount_Term</th>\n",
       "      <th>Credit_History</th>\n",
       "    </tr>\n",
       "  </thead>\n",
       "  <tbody>\n",
       "    <tr>\n",
       "      <th>count</th>\n",
       "      <td>614.000000</td>\n",
       "      <td>614.000000</td>\n",
       "      <td>592.000000</td>\n",
       "      <td>600.00000</td>\n",
       "      <td>564.000000</td>\n",
       "    </tr>\n",
       "    <tr>\n",
       "      <th>mean</th>\n",
       "      <td>5403.459283</td>\n",
       "      <td>1621.245798</td>\n",
       "      <td>146.412162</td>\n",
       "      <td>342.00000</td>\n",
       "      <td>0.842199</td>\n",
       "    </tr>\n",
       "    <tr>\n",
       "      <th>std</th>\n",
       "      <td>6109.041673</td>\n",
       "      <td>2926.248369</td>\n",
       "      <td>85.587325</td>\n",
       "      <td>65.12041</td>\n",
       "      <td>0.364878</td>\n",
       "    </tr>\n",
       "    <tr>\n",
       "      <th>min</th>\n",
       "      <td>150.000000</td>\n",
       "      <td>0.000000</td>\n",
       "      <td>9.000000</td>\n",
       "      <td>12.00000</td>\n",
       "      <td>0.000000</td>\n",
       "    </tr>\n",
       "    <tr>\n",
       "      <th>25%</th>\n",
       "      <td>2877.500000</td>\n",
       "      <td>0.000000</td>\n",
       "      <td>100.000000</td>\n",
       "      <td>360.00000</td>\n",
       "      <td>1.000000</td>\n",
       "    </tr>\n",
       "    <tr>\n",
       "      <th>50%</th>\n",
       "      <td>3812.500000</td>\n",
       "      <td>1188.500000</td>\n",
       "      <td>128.000000</td>\n",
       "      <td>360.00000</td>\n",
       "      <td>1.000000</td>\n",
       "    </tr>\n",
       "    <tr>\n",
       "      <th>75%</th>\n",
       "      <td>5795.000000</td>\n",
       "      <td>2297.250000</td>\n",
       "      <td>168.000000</td>\n",
       "      <td>360.00000</td>\n",
       "      <td>1.000000</td>\n",
       "    </tr>\n",
       "    <tr>\n",
       "      <th>max</th>\n",
       "      <td>81000.000000</td>\n",
       "      <td>41667.000000</td>\n",
       "      <td>700.000000</td>\n",
       "      <td>480.00000</td>\n",
       "      <td>1.000000</td>\n",
       "    </tr>\n",
       "  </tbody>\n",
       "</table>\n",
       "</div>"
      ],
      "text/plain": [
       "       ApplicantIncome  CoapplicantIncome  LoanAmount  Loan_Amount_Term  \\\n",
       "count       614.000000         614.000000  592.000000         600.00000   \n",
       "mean       5403.459283        1621.245798  146.412162         342.00000   \n",
       "std        6109.041673        2926.248369   85.587325          65.12041   \n",
       "min         150.000000           0.000000    9.000000          12.00000   \n",
       "25%        2877.500000           0.000000  100.000000         360.00000   \n",
       "50%        3812.500000        1188.500000  128.000000         360.00000   \n",
       "75%        5795.000000        2297.250000  168.000000         360.00000   \n",
       "max       81000.000000       41667.000000  700.000000         480.00000   \n",
       "\n",
       "       Credit_History  \n",
       "count      564.000000  \n",
       "mean         0.842199  \n",
       "std          0.364878  \n",
       "min          0.000000  \n",
       "25%          1.000000  \n",
       "50%          1.000000  \n",
       "75%          1.000000  \n",
       "max          1.000000  "
      ]
     },
     "execution_count": 8,
     "metadata": {},
     "output_type": "execute_result"
    }
   ],
   "source": [
    "train.describe() # Summary of numerical variables"
   ]
  },
  {
   "cell_type": "markdown",
   "metadata": {},
   "source": [
    "#### Examining variables"
   ]
  },
  {
   "cell_type": "code",
   "execution_count": 9,
   "metadata": {},
   "outputs": [
    {
     "data": {
      "text/plain": [
       "<matplotlib.text.Text at 0x254d7da08d0>"
      ]
     },
     "execution_count": 9,
     "metadata": {},
     "output_type": "execute_result"
    },
    {
     "data": {
      "image/png": "[encoded data removed]",
      "text/plain": [
       "<matplotlib.figure.Figure at 0x254d7f4f630>"
      ]
     },
     "metadata": {},
     "output_type": "display_data"
    }
   ],
   "source": [
    "import matplotlib.pyplot as plt\n",
    "\n",
    "fig = plt.figure(figsize=(12,4))\n",
    "ax1 = fig.add_subplot(121)\n",
    "ax1.set_title(\"Loan_Status\")\n",
    "train.Loan_Status.value_counts().plot(kind='bar')\n",
    "\n",
    "ax2 = fig.add_subplot(122)\n",
    "train.Property_Area.value_counts().plot(kind='barh')\n",
    "ax2.set_title(\"Property_Area\")"
   ]
  },
  {
   "cell_type": "code",
   "execution_count": 10,
   "metadata": {},
   "outputs": [
    {
     "data": {
      "text/plain": [
       "Semiurban    233\n",
       "Urban        202\n",
       "Rural        179\n",
       "Name: Property_Area, dtype: int64"
      ]
     },
     "execution_count": 10,
     "metadata": {},
     "output_type": "execute_result"
    }
   ],
   "source": [
    "train['Property_Area'].value_counts()"
   ]
  },
  {
   "cell_type": "code",
   "execution_count": 11,
   "metadata": {},
   "outputs": [
    {
     "data": {
      "text/plain": [
       "<matplotlib.axes._subplots.AxesSubplot at 0x254d7f4f470>"
      ]
     },
     "execution_count": 11,
     "metadata": {},
     "output_type": "execute_result"
    },
    {
     "data": {
      "image/png": "[encoded data removed]",
      "text/plain": [
       "<matplotlib.figure.Figure at 0x254d73f1a58>"
      ]
     },
     "metadata": {},
     "output_type": "display_data"
    }
   ],
   "source": [
    "train.boxplot(column='ApplicantIncome', by = 'Education')"
   ]
  },
  {
   "cell_type": "code",
   "execution_count": 12,
   "metadata": {},
   "outputs": [
    {
     "data": {
      "text/plain": [
       "<matplotlib.axes._subplots.AxesSubplot at 0x254d73f1be0>"
      ]
     },
     "execution_count": 12,
     "metadata": {},
     "output_type": "execute_result"
    },
    {
     "data": {
      "image/png": "[encoded data removed]",
      "text/plain": [
       "<matplotlib.figure.Figure at 0x254d80049e8>"
      ]
     },
     "metadata": {},
     "output_type": "display_data"
    }
   ],
   "source": [
    "train['LoanAmount'].hist(bins=50)"
   ]
  },
  {
   "cell_type": "markdown",
   "metadata": {},
   "source": [
    "## Dealing with missing values"
   ]
  },
  {
   "cell_type": "code",
   "execution_count": 13,
   "metadata": {},
   "outputs": [
    {
     "data": {
      "text/plain": [
       "Loan_ID                0\n",
       "Loan_Status          367\n",
       "Married                3\n",
       "Property_Area          0\n",
       "Self_Employed         55\n",
       "ApplicantIncome        0\n",
       "CoapplicantIncome      0\n",
       "Credit_History        79\n",
       "Dependents            25\n",
       "Education              0\n",
       "Gender                24\n",
       "LoanAmount            27\n",
       "Loan_Amount_Term      20\n",
       "dtype: int64"
      ]
     },
     "execution_count": 13,
     "metadata": {},
     "output_type": "execute_result"
    }
   ],
   "source": [
    "full_df.isnull().sum() # Checking number of missing values"
   ]
  },
  {
   "cell_type": "code",
   "execution_count": 14,
   "metadata": {},
   "outputs": [
    {
     "data": {
      "text/plain": [
       "Loan_ID               object\n",
       "Loan_Status           object\n",
       "Married               object\n",
       "Property_Area         object\n",
       "Self_Employed         object\n",
       "ApplicantIncome        int64\n",
       "CoapplicantIncome    float64\n",
       "Credit_History       float64\n",
       "Dependents            object\n",
       "Education             object\n",
       "Gender                object\n",
       "LoanAmount           float64\n",
       "Loan_Amount_Term     float64\n",
       "dtype: object"
      ]
     },
     "execution_count": 14,
     "metadata": {},
     "output_type": "execute_result"
    }
   ],
   "source": [
    "full_df.dtypes # Checking the data types"
   ]
  },
  {
   "cell_type": "code",
   "execution_count": 15,
   "metadata": {
    "collapsed": true
   },
   "outputs": [],
   "source": [
    "from sklearn.preprocessing import Imputer # Loading the imputer library"
   ]
  },
  {
   "cell_type": "markdown",
   "metadata": {},
   "source": [
    "#### Creating an imputer DataFrameImputer function for categorical values"
   ]
  },
  {
   "cell_type": "code",
   "execution_count": 16,
   "metadata": {
    "collapsed": true
   },
   "outputs": [],
   "source": [
    "from sklearn.base import TransformerMixin\n",
    "\n",
    "class DataFrameImputer(TransformerMixin):\n",
    "\n",
    "    def __init__(self):\n",
    "        \"\"\"Impute missing values.\n",
    "\n",
    "        Columns of dtype object are imputed with the most frequent value \n",
    "        in column.\n",
    "\n",
    "        Columns of other types are imputed with mean of column.\n",
    "\n",
    "        \"\"\"\n",
    "    def fit(self, X, y=None):\n",
    "\n",
    "        self.fill = pd.Series([X[c].value_counts().index[0]\n",
    "            if X[c].dtype == np.dtype('O') else X[c].mean() for c in X],\n",
    "            index=X.columns)\n",
    "\n",
    "        return self\n",
    "\n",
    "    def transform(self, X, y=None):\n",
    "        return X.fillna(self.fill)"
   ]
  },
  {
   "cell_type": "markdown",
   "metadata": {},
   "source": [
    "#### Filling missing values in 'Loan Amount'"
   ]
  },
  {
   "cell_type": "code",
   "execution_count": 17,
   "metadata": {
    "collapsed": true
   },
   "outputs": [],
   "source": [
    "imp = Imputer(missing_values='NaN', strategy='median', axis=0)\n",
    "full_df[\"LoanAmount\"] = imp.fit_transform(full_df.LoanAmount.values.reshape(-1,1))"
   ]
  },
  {
   "cell_type": "markdown",
   "metadata": {},
   "source": [
    "#### Filling missing values in categorcial variables"
   ]
  },
  {
   "cell_type": "code",
   "execution_count": 18,
   "metadata": {
    "collapsed": true
   },
   "outputs": [],
   "source": [
    "full_df = DataFrameImputer().fit_transform(full_df)"
   ]
  },
  {
   "cell_type": "code",
   "execution_count": 19,
   "metadata": {},
   "outputs": [
    {
     "data": {
      "text/plain": [
       "Loan_ID              0\n",
       "Loan_Status          0\n",
       "Married              0\n",
       "Property_Area        0\n",
       "Self_Employed        0\n",
       "ApplicantIncome      0\n",
       "CoapplicantIncome    0\n",
       "Credit_History       0\n",
       "Dependents           0\n",
       "Education            0\n",
       "Gender               0\n",
       "LoanAmount           0\n",
       "Loan_Amount_Term     0\n",
       "dtype: int64"
      ]
     },
     "execution_count": 19,
     "metadata": {},
     "output_type": "execute_result"
    }
   ],
   "source": [
    "full_df.isnull().sum() # Verifying no more missing values exist in the dataframe"
   ]
  },
  {
   "cell_type": "markdown",
   "metadata": {},
   "source": [
    "### Encoding of the columns"
   ]
  },
  {
   "cell_type": "code",
   "execution_count": 20,
   "metadata": {
    "collapsed": true
   },
   "outputs": [],
   "source": [
    "from sklearn.preprocessing import LabelEncoder\n",
    "var_mod = ['Gender','Married','Dependents','Education','Self_Employed','Property_Area','Loan_Status']\n",
    "le = LabelEncoder()\n",
    "for i in var_mod:\n",
    "    full_df[i] = le.fit_transform(full_df[i].astype(str))"
   ]
  },
  {
   "cell_type": "code",
   "execution_count": 21,
   "metadata": {},
   "outputs": [
    {
     "data": {
      "text/html": [
       "<div>\n",
       "<style>\n",
       "    .dataframe thead tr:only-child th {\n",
       "        text-align: right;\n",
       "    }\n",
       "\n",
       "    .dataframe thead th {\n",
       "        text-align: left;\n",
       "    }\n",
       "\n",
       "    .dataframe tbody tr th {\n",
       "        vertical-align: top;\n",
       "    }\n",
       "</style>\n",
       "<table border=\"1\" class=\"dataframe\">\n",
       "  <thead>\n",
       "    <tr style=\"text-align: right;\">\n",
       "      <th></th>\n",
       "      <th>Loan_ID</th>\n",
       "      <th>Loan_Status</th>\n",
       "      <th>Married</th>\n",
       "      <th>Property_Area</th>\n",
       "      <th>Self_Employed</th>\n",
       "      <th>ApplicantIncome</th>\n",
       "      <th>CoapplicantIncome</th>\n",
       "      <th>Credit_History</th>\n",
       "      <th>Dependents</th>\n",
       "      <th>Education</th>\n",
       "      <th>Gender</th>\n",
       "      <th>LoanAmount</th>\n",
       "      <th>Loan_Amount_Term</th>\n",
       "    </tr>\n",
       "  </thead>\n",
       "  <tbody>\n",
       "    <tr>\n",
       "      <th>0</th>\n",
       "      <td>LP001002</td>\n",
       "      <td>1</td>\n",
       "      <td>0</td>\n",
       "      <td>2</td>\n",
       "      <td>0</td>\n",
       "      <td>5849</td>\n",
       "      <td>0.0</td>\n",
       "      <td>1.0</td>\n",
       "      <td>0</td>\n",
       "      <td>0</td>\n",
       "      <td>1</td>\n",
       "      <td>126.0</td>\n",
       "      <td>360.0</td>\n",
       "    </tr>\n",
       "    <tr>\n",
       "      <th>1</th>\n",
       "      <td>LP001003</td>\n",
       "      <td>0</td>\n",
       "      <td>1</td>\n",
       "      <td>0</td>\n",
       "      <td>0</td>\n",
       "      <td>4583</td>\n",
       "      <td>1508.0</td>\n",
       "      <td>1.0</td>\n",
       "      <td>1</td>\n",
       "      <td>0</td>\n",
       "      <td>1</td>\n",
       "      <td>128.0</td>\n",
       "      <td>360.0</td>\n",
       "    </tr>\n",
       "  </tbody>\n",
       "</table>\n",
       "</div>"
      ],
      "text/plain": [
       "    Loan_ID  Loan_Status  Married  Property_Area  Self_Employed  \\\n",
       "0  LP001002            1        0              2              0   \n",
       "1  LP001003            0        1              0              0   \n",
       "\n",
       "   ApplicantIncome  CoapplicantIncome  Credit_History  Dependents  Education  \\\n",
       "0             5849                0.0             1.0           0          0   \n",
       "1             4583             1508.0             1.0           1          0   \n",
       "\n",
       "   Gender  LoanAmount  Loan_Amount_Term  \n",
       "0       1       126.0             360.0  \n",
       "1       1       128.0             360.0  "
      ]
     },
     "execution_count": 21,
     "metadata": {},
     "output_type": "execute_result"
    }
   ],
   "source": [
    "full_df.head(2)"
   ]
  },
  {
   "cell_type": "markdown",
   "metadata": {},
   "source": [
    " "
   ]
  },
  {
   "cell_type": "markdown",
   "metadata": {},
   "source": [
    " "
   ]
  },
  {
   "cell_type": "markdown",
   "metadata": {},
   "source": [
    "# Creating new features"
   ]
  },
  {
   "cell_type": "markdown",
   "metadata": {},
   "source": [
    "#### Applicant Income (log)\n",
    "The income each applicant"
   ]
  },
  {
   "cell_type": "code",
   "execution_count": 22,
   "metadata": {},
   "outputs": [
    {
     "data": {
      "text/plain": [
       "<matplotlib.axes._subplots.AxesSubplot at 0x254d9ba6a90>"
      ]
     },
     "execution_count": 22,
     "metadata": {},
     "output_type": "execute_result"
    },
    {
     "data": {
      "image/png": "[encoded data removed]",
      "text/plain": [
       "<matplotlib.figure.Figure at 0x254d9ba1240>"
      ]
     },
     "metadata": {},
     "output_type": "display_data"
    }
   ],
   "source": [
    "full_df['ApplicantIncome'].hist(bins=20)"
   ]
  },
  {
   "cell_type": "markdown",
   "metadata": {},
   "source": [
    "A log function is necessary in order to normalize the data"
   ]
  },
  {
   "cell_type": "code",
   "execution_count": 23,
   "metadata": {
    "collapsed": true
   },
   "outputs": [],
   "source": [
    "full_df['ApplicantIncome_log'] = np.where((full_df['ApplicantIncome']<2.72), 0, np.log(full_df['ApplicantIncome']))"
   ]
  },
  {
   "cell_type": "code",
   "execution_count": 24,
   "metadata": {},
   "outputs": [
    {
     "data": {
      "text/plain": [
       "<matplotlib.axes._subplots.AxesSubplot at 0x254d9c83ba8>"
      ]
     },
     "execution_count": 24,
     "metadata": {},
     "output_type": "execute_result"
    },
    {
     "data": {
      "image/png": "[encoded data removed]",
      "text/plain": [
       "<matplotlib.figure.Figure at 0x254d9c95ba8>"
      ]
     },
     "metadata": {},
     "output_type": "display_data"
    }
   ],
   "source": [
    "full_df['ApplicantIncome_log'].hist(bins=20)"
   ]
  },
  {
   "cell_type": "markdown",
   "metadata": {},
   "source": [
    "#### CoApplicant Income (log)\n",
    "Income of the co-applicant"
   ]
  },
  {
   "cell_type": "code",
   "execution_count": 25,
   "metadata": {},
   "outputs": [
    {
     "data": {
      "text/plain": [
       "<matplotlib.axes._subplots.AxesSubplot at 0x254d9d77ef0>"
      ]
     },
     "execution_count": 25,
     "metadata": {},
     "output_type": "execute_result"
    },
    {
     "data": {
      "image/png": "[encoded data removed]",
      "text/plain": [
       "<matplotlib.figure.Figure at 0x254d9d94c18>"
      ]
     },
     "metadata": {},
     "output_type": "display_data"
    }
   ],
   "source": [
    "full_df['CoapplicantIncome'].hist(bins=20)"
   ]
  },
  {
   "cell_type": "markdown",
   "metadata": {},
   "source": [
    "A log function is necessary in order to normalize the data"
   ]
  },
  {
   "cell_type": "code",
   "execution_count": 26,
   "metadata": {
    "collapsed": true
   },
   "outputs": [],
   "source": [
    "full_df['CoapplicantIncome_log'] = np.where((full_df['CoapplicantIncome']<2.72), 0, np.log(full_df['CoapplicantIncome']))"
   ]
  },
  {
   "cell_type": "code",
   "execution_count": 27,
   "metadata": {},
   "outputs": [
    {
     "data": {
      "text/plain": [
       "<matplotlib.axes._subplots.AxesSubplot at 0x254d853b9e8>"
      ]
     },
     "execution_count": 27,
     "metadata": {},
     "output_type": "execute_result"
    },
    {
     "data": {
      "image/png": "[encoded data removed]",
      "text/plain": [
       "<matplotlib.figure.Figure at 0x254d9e95978>"
      ]
     },
     "metadata": {},
     "output_type": "display_data"
    }
   ],
   "source": [
    "full_df['CoapplicantIncome_log'].hist(bins=20)"
   ]
  },
  {
   "cell_type": "markdown",
   "metadata": {},
   "source": [
    "#### Loan Amount (log)\n",
    "The amount of the loan"
   ]
  },
  {
   "cell_type": "code",
   "execution_count": 28,
   "metadata": {},
   "outputs": [
    {
     "data": {
      "text/plain": [
       "<matplotlib.axes._subplots.AxesSubplot at 0x254d9f21828>"
      ]
     },
     "execution_count": 28,
     "metadata": {},
     "output_type": "execute_result"
    },
    {
     "data": {
      "image/png": "[encoded data removed]",
      "text/plain": [
       "<matplotlib.figure.Figure at 0x254d9f90390>"
      ]
     },
     "metadata": {},
     "output_type": "display_data"
    }
   ],
   "source": [
    "full_df['LoanAmount'].hist(bins=20)"
   ]
  },
  {
   "cell_type": "markdown",
   "metadata": {},
   "source": [
    "A log function is necessary in order to normalize the data"
   ]
  },
  {
   "cell_type": "code",
   "execution_count": 29,
   "metadata": {
    "collapsed": true
   },
   "outputs": [],
   "source": [
    "full_df['LoanAmount_log'] = np.log(full_df['LoanAmount'])"
   ]
  },
  {
   "cell_type": "code",
   "execution_count": 30,
   "metadata": {},
   "outputs": [
    {
     "data": {
      "text/plain": [
       "<matplotlib.axes._subplots.AxesSubplot at 0x254d9db5c88>"
      ]
     },
     "execution_count": 30,
     "metadata": {},
     "output_type": "execute_result"
    },
    {
     "data": {
      "image/png": "[encoded data removed]",
      "text/plain": [
       "<matplotlib.figure.Figure at 0x254da083f60>"
      ]
     },
     "metadata": {},
     "output_type": "display_data"
    }
   ],
   "source": [
    "full_df['LoanAmount_log'].hist(bins=20)"
   ]
  },
  {
   "cell_type": "markdown",
   "metadata": {},
   "source": [
    "#### Total Income (log)\n",
    "Total income of the as the sum of the applicant and co-applicant incomes"
   ]
  },
  {
   "cell_type": "code",
   "execution_count": 31,
   "metadata": {
    "collapsed": true
   },
   "outputs": [],
   "source": [
    "full_df['TotalIncome'] = full_df['ApplicantIncome'] + full_df['CoapplicantIncome']"
   ]
  },
  {
   "cell_type": "code",
   "execution_count": 32,
   "metadata": {},
   "outputs": [
    {
     "data": {
      "text/plain": [
       "<matplotlib.axes._subplots.AxesSubplot at 0x254da1435f8>"
      ]
     },
     "execution_count": 32,
     "metadata": {},
     "output_type": "execute_result"
    },
    {
     "data": {
      "image/png": "[encoded data removed]",
      "text/plain": [
       "<matplotlib.figure.Figure at 0x254d9d92518>"
      ]
     },
     "metadata": {},
     "output_type": "display_data"
    }
   ],
   "source": [
    "full_df['TotalIncome'].hist(bins=20) "
   ]
  },
  {
   "cell_type": "markdown",
   "metadata": {},
   "source": [
    "A log function is necessary in order to normalize the data"
   ]
  },
  {
   "cell_type": "code",
   "execution_count": 33,
   "metadata": {
    "collapsed": true
   },
   "outputs": [],
   "source": [
    "full_df['TotalIncome_log'] = np.log(full_df['TotalIncome'])"
   ]
  },
  {
   "cell_type": "code",
   "execution_count": 34,
   "metadata": {},
   "outputs": [
    {
     "data": {
      "text/plain": [
       "<matplotlib.axes._subplots.AxesSubplot at 0x254da25c128>"
      ]
     },
     "execution_count": 34,
     "metadata": {},
     "output_type": "execute_result"
    },
    {
     "data": {
      "image/png": "[encoded data removed]",
      "text/plain": [
       "<matplotlib.figure.Figure at 0x254da26bb00>"
      ]
     },
     "metadata": {},
     "output_type": "display_data"
    }
   ],
   "source": [
    "full_df['TotalIncome_log'].hist(bins=20) "
   ]
  },
  {
   "cell_type": "markdown",
   "metadata": {},
   "source": [
    "#### Loan Ratio\n",
    "The ratio between the loan amount and the total income"
   ]
  },
  {
   "cell_type": "code",
   "execution_count": 35,
   "metadata": {
    "collapsed": true
   },
   "outputs": [],
   "source": [
    "full_df['Loan_Ratio'] = (full_df['LoanAmount'] / full_df['TotalIncome'])"
   ]
  },
  {
   "cell_type": "code",
   "execution_count": 36,
   "metadata": {},
   "outputs": [
    {
     "data": {
      "text/plain": [
       "<matplotlib.axes._subplots.AxesSubplot at 0x254da379c50>"
      ]
     },
     "execution_count": 36,
     "metadata": {},
     "output_type": "execute_result"
    },
    {
     "data": {
      "image/png": "[encoded data removed]",
      "text/plain": [
       "<matplotlib.figure.Figure at 0x254da386e48>"
      ]
     },
     "metadata": {},
     "output_type": "display_data"
    }
   ],
   "source": [
    "full_df['Loan_Ratio'].hist(bins=30)"
   ]
  },
  {
   "cell_type": "markdown",
   "metadata": {},
   "source": [
    "#### Family Size\n",
    "Total size of the family"
   ]
  },
  {
   "cell_type": "code",
   "execution_count": 37,
   "metadata": {
    "collapsed": true
   },
   "outputs": [],
   "source": [
    "full_df['Family_Size'] = np.where(((full_df['CoapplicantIncome']>0) | (full_df['Married'] == 1)), full_df['Dependents'] + 2, full_df['Dependents'] + 1)"
   ]
  },
  {
   "cell_type": "code",
   "execution_count": 38,
   "metadata": {},
   "outputs": [
    {
     "data": {
      "text/plain": [
       "<matplotlib.axes._subplots.AxesSubplot at 0x254da457320>"
      ]
     },
     "execution_count": 38,
     "metadata": {},
     "output_type": "execute_result"
    },
    {
     "data": {
      "image/png": "[encoded data removed]",
      "text/plain": [
       "<matplotlib.figure.Figure at 0x254da40eb70>"
      ]
     },
     "metadata": {},
     "output_type": "display_data"
    }
   ],
   "source": [
    "full_df['Family_Size'].hist()"
   ]
  },
  {
   "cell_type": "markdown",
   "metadata": {},
   "source": [
    "#### Income Per Capita\n",
    "Income per family member"
   ]
  },
  {
   "cell_type": "code",
   "execution_count": 39,
   "metadata": {
    "collapsed": true
   },
   "outputs": [],
   "source": [
    "full_df['Income_Per_Capita'] = full_df['TotalIncome']/full_df['Family_Size']"
   ]
  },
  {
   "cell_type": "code",
   "execution_count": 40,
   "metadata": {},
   "outputs": [
    {
     "data": {
      "text/plain": [
       "<matplotlib.axes._subplots.AxesSubplot at 0x254da414d30>"
      ]
     },
     "execution_count": 40,
     "metadata": {},
     "output_type": "execute_result"
    },
    {
     "data": {
      "image/png": "[encoded data removed]",
      "text/plain": [
       "<matplotlib.figure.Figure at 0x254da4c73c8>"
      ]
     },
     "metadata": {},
     "output_type": "display_data"
    }
   ],
   "source": [
    "full_df['Income_Per_Capita'].hist(bins = 30)"
   ]
  },
  {
   "cell_type": "markdown",
   "metadata": {},
   "source": [
    "A log function is necessary in order to normalize the data"
   ]
  },
  {
   "cell_type": "code",
   "execution_count": 41,
   "metadata": {
    "collapsed": true
   },
   "outputs": [],
   "source": [
    "full_df['Income_Per_Capita_log'] = np.log(full_df['Income_Per_Capita'])"
   ]
  },
  {
   "cell_type": "code",
   "execution_count": 42,
   "metadata": {},
   "outputs": [
    {
     "data": {
      "text/plain": [
       "<matplotlib.axes._subplots.AxesSubplot at 0x254da6a34a8>"
      ]
     },
     "execution_count": 42,
     "metadata": {},
     "output_type": "execute_result"
    },
    {
     "data": {
      "image/png": "[encoded data removed]",
      "text/plain": [
       "<matplotlib.figure.Figure at 0x254da6bd518>"
      ]
     },
     "metadata": {},
     "output_type": "display_data"
    }
   ],
   "source": [
    "full_df['Income_Per_Capita_log'].hist(bins = 30)"
   ]
  },
  {
   "cell_type": "markdown",
   "metadata": {},
   "source": [
    "#### Loan Per Month\n",
    "Loan amount per month"
   ]
  },
  {
   "cell_type": "code",
   "execution_count": 43,
   "metadata": {
    "collapsed": true
   },
   "outputs": [],
   "source": [
    "full_df['Loan_Per_Month'] = full_df['LoanAmount']/full_df['Loan_Amount_Term']"
   ]
  },
  {
   "cell_type": "code",
   "execution_count": 44,
   "metadata": {},
   "outputs": [
    {
     "data": {
      "text/plain": [
       "<matplotlib.axes._subplots.AxesSubplot at 0x254da782cc0>"
      ]
     },
     "execution_count": 44,
     "metadata": {},
     "output_type": "execute_result"
    },
    {
     "data": {
      "image/png": "[encoded data removed]",
      "text/plain": [
       "<matplotlib.figure.Figure at 0x254da73c748>"
      ]
     },
     "metadata": {},
     "output_type": "display_data"
    }
   ],
   "source": [
    "full_df['Loan_Per_Month'].hist(bins = 30)"
   ]
  },
  {
   "cell_type": "markdown",
   "metadata": {},
   "source": [
    "A log function is necessary in order to normalize the data"
   ]
  },
  {
   "cell_type": "code",
   "execution_count": 45,
   "metadata": {
    "collapsed": true
   },
   "outputs": [],
   "source": [
    "full_df['Loan_Per_Month_log'] = np.log(full_df['Loan_Per_Month'])"
   ]
  },
  {
   "cell_type": "code",
   "execution_count": 46,
   "metadata": {},
   "outputs": [
    {
     "data": {
      "text/plain": [
       "<matplotlib.axes._subplots.AxesSubplot at 0x254da7f0438>"
      ]
     },
     "execution_count": 46,
     "metadata": {},
     "output_type": "execute_result"
    },
    {
     "data": {
      "image/png": "[encoded data removed]",
      "text/plain": [
       "<matplotlib.figure.Figure at 0x254da855dd8>"
      ]
     },
     "metadata": {},
     "output_type": "display_data"
    }
   ],
   "source": [
    "full_df['Loan_Per_Month_log'].hist(bins = 30)"
   ]
  },
  {
   "cell_type": "markdown",
   "metadata": {},
   "source": [
    "#### Loan Per Month By Total Income\n",
    "The loan per month by the total income of the applicant and co-applicant"
   ]
  },
  {
   "cell_type": "code",
   "execution_count": 47,
   "metadata": {
    "collapsed": true
   },
   "outputs": [],
   "source": [
    "full_df['Loan_PM_TotInc'] = full_df['Loan_Per_Month']/full_df['TotalIncome']"
   ]
  },
  {
   "cell_type": "code",
   "execution_count": 48,
   "metadata": {
    "scrolled": true
   },
   "outputs": [
    {
     "data": {
      "text/plain": [
       "<matplotlib.axes._subplots.AxesSubplot at 0x254da9fbda0>"
      ]
     },
     "execution_count": 48,
     "metadata": {},
     "output_type": "execute_result"
    },
    {
     "data": {
      "image/png": "[encoded data removed]",
      "text/plain": [
       "<matplotlib.figure.Figure at 0x254daa197b8>"
      ]
     },
     "metadata": {},
     "output_type": "display_data"
    }
   ],
   "source": [
    "full_df['Loan_PM_TotInc'].hist(bins = 30)"
   ]
  },
  {
   "cell_type": "markdown",
   "metadata": {},
   "source": [
    "A log function is necessary in order to normalize the data"
   ]
  },
  {
   "cell_type": "code",
   "execution_count": 49,
   "metadata": {
    "collapsed": true
   },
   "outputs": [],
   "source": [
    "full_df['Loan_PM_TotInc_log'] = np.log(full_df['Loan_PM_TotInc'])"
   ]
  },
  {
   "cell_type": "code",
   "execution_count": 50,
   "metadata": {},
   "outputs": [
    {
     "data": {
      "text/plain": [
       "<matplotlib.axes._subplots.AxesSubplot at 0x254dbaf2b00>"
      ]
     },
     "execution_count": 50,
     "metadata": {},
     "output_type": "execute_result"
    },
    {
     "data": {
      "image/png": "[encoded data removed]",
      "text/plain": [
       "<matplotlib.figure.Figure at 0x254dbb13c88>"
      ]
     },
     "metadata": {},
     "output_type": "display_data"
    }
   ],
   "source": [
    "full_df['Loan_PM_TotInc_log'].hist(bins = 30)"
   ]
  },
  {
   "cell_type": "markdown",
   "metadata": {},
   "source": [
    "#### Loan Amount Per Capita\n",
    "The loan amount per income of each family member"
   ]
  },
  {
   "cell_type": "code",
   "execution_count": 51,
   "metadata": {
    "collapsed": true
   },
   "outputs": [],
   "source": [
    "full_df['LoanAmount_Per_Capita'] = full_df['LoanAmount']/full_df['Income_Per_Capita']"
   ]
  },
  {
   "cell_type": "code",
   "execution_count": 52,
   "metadata": {},
   "outputs": [
    {
     "data": {
      "text/plain": [
       "<matplotlib.axes._subplots.AxesSubplot at 0x254dbc197f0>"
      ]
     },
     "execution_count": 52,
     "metadata": {},
     "output_type": "execute_result"
    },
    {
     "data": {
      "image/png": "[encoded data removed]",
      "text/plain": [
       "<matplotlib.figure.Figure at 0x254dbc39dd8>"
      ]
     },
     "metadata": {},
     "output_type": "display_data"
    }
   ],
   "source": [
    "full_df['LoanAmount_Per_Capita'].hist(bins = 30)"
   ]
  },
  {
   "cell_type": "markdown",
   "metadata": {},
   "source": [
    "A log function is necessary in order to normalize the data"
   ]
  },
  {
   "cell_type": "code",
   "execution_count": 53,
   "metadata": {
    "collapsed": true
   },
   "outputs": [],
   "source": [
    "full_df['LoanAmount_Per_Capita_log'] = np.log(1000*full_df['LoanAmount_Per_Capita'])"
   ]
  },
  {
   "cell_type": "code",
   "execution_count": 54,
   "metadata": {},
   "outputs": [
    {
     "data": {
      "text/plain": [
       "<matplotlib.axes._subplots.AxesSubplot at 0x254dbd5c550>"
      ]
     },
     "execution_count": 54,
     "metadata": {},
     "output_type": "execute_result"
    },
    {
     "data": {
      "image/png": "[encoded data removed]",
      "text/plain": [
       "<matplotlib.figure.Figure at 0x254dbd67828>"
      ]
     },
     "metadata": {},
     "output_type": "display_data"
    }
   ],
   "source": [
    "full_df['LoanAmount_Per_Capita_log'].hist(bins = 30)"
   ]
  },
  {
   "cell_type": "markdown",
   "metadata": {},
   "source": [
    "#### Loan Per Month Per Capita\n",
    "Loan per month by each family member"
   ]
  },
  {
   "cell_type": "code",
   "execution_count": 55,
   "metadata": {
    "collapsed": true
   },
   "outputs": [],
   "source": [
    "full_df['Loan_PM_PCapita'] = full_df['Loan_Per_Month']/full_df['LoanAmount_Per_Capita']"
   ]
  },
  {
   "cell_type": "code",
   "execution_count": 56,
   "metadata": {},
   "outputs": [
    {
     "data": {
      "text/plain": [
       "<matplotlib.axes._subplots.AxesSubplot at 0x254dbe83240>"
      ]
     },
     "execution_count": 56,
     "metadata": {},
     "output_type": "execute_result"
    },
    {
     "data": {
      "image/png": "[encoded data removed]",
      "text/plain": [
       "<matplotlib.figure.Figure at 0x254dbe8fac8>"
      ]
     },
     "metadata": {},
     "output_type": "display_data"
    }
   ],
   "source": [
    "full_df['Loan_PM_PCapita'].hist(bins = 30)"
   ]
  },
  {
   "cell_type": "markdown",
   "metadata": {},
   "source": [
    "A log function is necessary in order to normalize the data"
   ]
  },
  {
   "cell_type": "code",
   "execution_count": 57,
   "metadata": {
    "collapsed": true
   },
   "outputs": [],
   "source": [
    "full_df['Loan_PM_PCapita_log'] = np.log(full_df['Loan_PM_PCapita'])"
   ]
  },
  {
   "cell_type": "code",
   "execution_count": 58,
   "metadata": {},
   "outputs": [
    {
     "data": {
      "text/plain": [
       "<matplotlib.axes._subplots.AxesSubplot at 0x254dbf16780>"
      ]
     },
     "execution_count": 58,
     "metadata": {},
     "output_type": "execute_result"
    },
    {
     "data": {
      "image/png": "[encoded data removed]",
      "text/plain": [
       "<matplotlib.figure.Figure at 0x254da6b6668>"
      ]
     },
     "metadata": {},
     "output_type": "display_data"
    }
   ],
   "source": [
    "full_df['Loan_PM_PCapita_log'].hist(bins = 30)"
   ]
  },
  {
   "cell_type": "markdown",
   "metadata": {},
   "source": [
    "### Checking correlation between the new features\n",
    "Testing only the new features"
   ]
  },
  {
   "cell_type": "code",
   "execution_count": 59,
   "metadata": {
    "collapsed": true
   },
   "outputs": [],
   "source": [
    "correlation_features = ['ApplicantIncome_log', 'CoapplicantIncome_log', 'LoanAmount_log', 'TotalIncome_log', 'Loan_Ratio', 'Income_Per_Capita_log', \n",
    "                        'Loan_Per_Month_log', 'Loan_PM_TotInc_log', 'LoanAmount_Per_Capita_log', 'Loan_PM_PCapita_log']"
   ]
  },
  {
   "cell_type": "code",
   "execution_count": 60,
   "metadata": {},
   "outputs": [
    {
     "data": {
      "text/html": [
       "<div>\n",
       "<style>\n",
       "    .dataframe thead tr:only-child th {\n",
       "        text-align: right;\n",
       "    }\n",
       "\n",
       "    .dataframe thead th {\n",
       "        text-align: left;\n",
       "    }\n",
       "\n",
       "    .dataframe tbody tr th {\n",
       "        vertical-align: top;\n",
       "    }\n",
       "</style>\n",
       "<table border=\"1\" class=\"dataframe\">\n",
       "  <thead>\n",
       "    <tr style=\"text-align: right;\">\n",
       "      <th></th>\n",
       "      <th>ApplicantIncome_log</th>\n",
       "      <th>CoapplicantIncome_log</th>\n",
       "      <th>LoanAmount_log</th>\n",
       "      <th>TotalIncome_log</th>\n",
       "      <th>Loan_Ratio</th>\n",
       "      <th>Income_Per_Capita_log</th>\n",
       "      <th>Loan_Per_Month_log</th>\n",
       "      <th>Loan_PM_TotInc_log</th>\n",
       "      <th>LoanAmount_Per_Capita_log</th>\n",
       "      <th>Loan_PM_PCapita_log</th>\n",
       "    </tr>\n",
       "  </thead>\n",
       "  <tbody>\n",
       "    <tr>\n",
       "      <th>ApplicantIncome_log</th>\n",
       "      <td>1.000000</td>\n",
       "      <td>-0.342355</td>\n",
       "      <td>0.395688</td>\n",
       "      <td>0.624233</td>\n",
       "      <td>-0.371562</td>\n",
       "      <td>0.476670</td>\n",
       "      <td>0.339218</td>\n",
       "      <td>-0.265867</td>\n",
       "      <td>-0.187654</td>\n",
       "      <td>0.432238</td>\n",
       "    </tr>\n",
       "    <tr>\n",
       "      <th>CoapplicantIncome_log</th>\n",
       "      <td>-0.342355</td>\n",
       "      <td>1.000000</td>\n",
       "      <td>0.134579</td>\n",
       "      <td>0.165583</td>\n",
       "      <td>-0.081405</td>\n",
       "      <td>-0.124546</td>\n",
       "      <td>0.111130</td>\n",
       "      <td>-0.047758</td>\n",
       "      <td>0.219495</td>\n",
       "      <td>-0.113727</td>\n",
       "    </tr>\n",
       "    <tr>\n",
       "      <th>LoanAmount_log</th>\n",
       "      <td>0.395688</td>\n",
       "      <td>0.134579</td>\n",
       "      <td>1.000000</td>\n",
       "      <td>0.629056</td>\n",
       "      <td>0.290221</td>\n",
       "      <td>0.345995</td>\n",
       "      <td>0.791336</td>\n",
       "      <td>0.215925</td>\n",
       "      <td>0.374386</td>\n",
       "      <td>0.270300</td>\n",
       "    </tr>\n",
       "    <tr>\n",
       "      <th>TotalIncome_log</th>\n",
       "      <td>0.624233</td>\n",
       "      <td>0.165583</td>\n",
       "      <td>0.629056</td>\n",
       "      <td>1.000000</td>\n",
       "      <td>-0.486237</td>\n",
       "      <td>0.651778</td>\n",
       "      <td>0.542458</td>\n",
       "      <td>-0.426941</td>\n",
       "      <td>-0.193545</td>\n",
       "      <td>0.594392</td>\n",
       "    </tr>\n",
       "    <tr>\n",
       "      <th>Loan_Ratio</th>\n",
       "      <td>-0.371562</td>\n",
       "      <td>-0.081405</td>\n",
       "      <td>0.290221</td>\n",
       "      <td>-0.486237</td>\n",
       "      <td>1.000000</td>\n",
       "      <td>-0.378891</td>\n",
       "      <td>0.169982</td>\n",
       "      <td>0.674485</td>\n",
       "      <td>0.582360</td>\n",
       "      <td>-0.398073</td>\n",
       "    </tr>\n",
       "    <tr>\n",
       "      <th>Income_Per_Capita_log</th>\n",
       "      <td>0.476670</td>\n",
       "      <td>-0.124546</td>\n",
       "      <td>0.345995</td>\n",
       "      <td>0.651778</td>\n",
       "      <td>-0.378891</td>\n",
       "      <td>1.000000</td>\n",
       "      <td>0.269749</td>\n",
       "      <td>-0.368488</td>\n",
       "      <td>-0.740465</td>\n",
       "      <td>0.881005</td>\n",
       "    </tr>\n",
       "    <tr>\n",
       "      <th>Loan_Per_Month_log</th>\n",
       "      <td>0.339218</td>\n",
       "      <td>0.111130</td>\n",
       "      <td>0.791336</td>\n",
       "      <td>0.542458</td>\n",
       "      <td>0.169982</td>\n",
       "      <td>0.269749</td>\n",
       "      <td>1.000000</td>\n",
       "      <td>0.528073</td>\n",
       "      <td>0.300267</td>\n",
       "      <td>0.498641</td>\n",
       "    </tr>\n",
       "    <tr>\n",
       "      <th>Loan_PM_TotInc_log</th>\n",
       "      <td>-0.265867</td>\n",
       "      <td>-0.047758</td>\n",
       "      <td>0.215925</td>\n",
       "      <td>-0.426941</td>\n",
       "      <td>0.674485</td>\n",
       "      <td>-0.368488</td>\n",
       "      <td>0.528073</td>\n",
       "      <td>1.000000</td>\n",
       "      <td>0.518857</td>\n",
       "      <td>-0.064096</td>\n",
       "    </tr>\n",
       "    <tr>\n",
       "      <th>LoanAmount_Per_Capita_log</th>\n",
       "      <td>-0.187654</td>\n",
       "      <td>0.219495</td>\n",
       "      <td>0.374386</td>\n",
       "      <td>-0.193545</td>\n",
       "      <td>0.582360</td>\n",
       "      <td>-0.740465</td>\n",
       "      <td>0.300267</td>\n",
       "      <td>0.518857</td>\n",
       "      <td>1.000000</td>\n",
       "      <td>-0.677085</td>\n",
       "    </tr>\n",
       "    <tr>\n",
       "      <th>Loan_PM_PCapita_log</th>\n",
       "      <td>0.432238</td>\n",
       "      <td>-0.113727</td>\n",
       "      <td>0.270300</td>\n",
       "      <td>0.594392</td>\n",
       "      <td>-0.398073</td>\n",
       "      <td>0.881005</td>\n",
       "      <td>0.498641</td>\n",
       "      <td>-0.064096</td>\n",
       "      <td>-0.677085</td>\n",
       "      <td>1.000000</td>\n",
       "    </tr>\n",
       "  </tbody>\n",
       "</table>\n",
       "</div>"
      ],
      "text/plain": [
       "                           ApplicantIncome_log  CoapplicantIncome_log  \\\n",
       "ApplicantIncome_log                   1.000000              -0.342355   \n",
       "CoapplicantIncome_log                -0.342355               1.000000   \n",
       "LoanAmount_log                        0.395688               0.134579   \n",
       "TotalIncome_log                       0.624233               0.165583   \n",
       "Loan_Ratio                           -0.371562              -0.081405   \n",
       "Income_Per_Capita_log                 0.476670              -0.124546   \n",
       "Loan_Per_Month_log                    0.339218               0.111130   \n",
       "Loan_PM_TotInc_log                   -0.265867              -0.047758   \n",
       "LoanAmount_Per_Capita_log            -0.187654               0.219495   \n",
       "Loan_PM_PCapita_log                   0.432238              -0.113727   \n",
       "\n",
       "                           LoanAmount_log  TotalIncome_log  Loan_Ratio  \\\n",
       "ApplicantIncome_log              0.395688         0.624233   -0.371562   \n",
       "CoapplicantIncome_log            0.134579         0.165583   -0.081405   \n",
       "LoanAmount_log                   1.000000         0.629056    0.290221   \n",
       "TotalIncome_log                  0.629056         1.000000   -0.486237   \n",
       "Loan_Ratio                       0.290221        -0.486237    1.000000   \n",
       "Income_Per_Capita_log            0.345995         0.651778   -0.378891   \n",
       "Loan_Per_Month_log               0.791336         0.542458    0.169982   \n",
       "Loan_PM_TotInc_log               0.215925        -0.426941    0.674485   \n",
       "LoanAmount_Per_Capita_log        0.374386        -0.193545    0.582360   \n",
       "Loan_PM_PCapita_log              0.270300         0.594392   -0.398073   \n",
       "\n",
       "                           Income_Per_Capita_log  Loan_Per_Month_log  \\\n",
       "ApplicantIncome_log                     0.476670            0.339218   \n",
       "CoapplicantIncome_log                  -0.124546            0.111130   \n",
       "LoanAmount_log                          0.345995            0.791336   \n",
       "TotalIncome_log                         0.651778            0.542458   \n",
       "Loan_Ratio                             -0.378891            0.169982   \n",
       "Income_Per_Capita_log                   1.000000            0.269749   \n",
       "Loan_Per_Month_log                      0.269749            1.000000   \n",
       "Loan_PM_TotInc_log                     -0.368488            0.528073   \n",
       "LoanAmount_Per_Capita_log              -0.740465            0.300267   \n",
       "Loan_PM_PCapita_log                     0.881005            0.498641   \n",
       "\n",
       "                           Loan_PM_TotInc_log  LoanAmount_Per_Capita_log  \\\n",
       "ApplicantIncome_log                 -0.265867                  -0.187654   \n",
       "CoapplicantIncome_log               -0.047758                   0.219495   \n",
       "LoanAmount_log                       0.215925                   0.374386   \n",
       "TotalIncome_log                     -0.426941                  -0.193545   \n",
       "Loan_Ratio                           0.674485                   0.582360   \n",
       "Income_Per_Capita_log               -0.368488                  -0.740465   \n",
       "Loan_Per_Month_log                   0.528073                   0.300267   \n",
       "Loan_PM_TotInc_log                   1.000000                   0.518857   \n",
       "LoanAmount_Per_Capita_log            0.518857                   1.000000   \n",
       "Loan_PM_PCapita_log                 -0.064096                  -0.677085   \n",
       "\n",
       "                           Loan_PM_PCapita_log  \n",
       "ApplicantIncome_log                   0.432238  \n",
       "CoapplicantIncome_log                -0.113727  \n",
       "LoanAmount_log                        0.270300  \n",
       "TotalIncome_log                       0.594392  \n",
       "Loan_Ratio                           -0.398073  \n",
       "Income_Per_Capita_log                 0.881005  \n",
       "Loan_Per_Month_log                    0.498641  \n",
       "Loan_PM_TotInc_log                   -0.064096  \n",
       "LoanAmount_Per_Capita_log            -0.677085  \n",
       "Loan_PM_PCapita_log                   1.000000  "
      ]
     },
     "execution_count": 60,
     "metadata": {},
     "output_type": "execute_result"
    }
   ],
   "source": [
    "full_df[correlation_features].corr()"
   ]
  },
  {
   "cell_type": "markdown",
   "metadata": {},
   "source": [
    "##### By the correlation results we decided to drop the following columns: \n",
    "* Income_Per_Capita_log\n",
    "* Loan_Per_Month_log"
   ]
  },
  {
   "cell_type": "code",
   "execution_count": 61,
   "metadata": {
    "collapsed": true
   },
   "outputs": [],
   "source": [
    "drop_list = ['Income_Per_Capita_log', 'Loan_Per_Month_log']\n",
    "full_df.drop(drop_list, axis=1, inplace=True) # Dropping the columns"
   ]
  },
  {
   "cell_type": "code",
   "execution_count": 62,
   "metadata": {},
   "outputs": [
    {
     "data": {
      "text/plain": [
       "(981, 28)"
      ]
     },
     "execution_count": 62,
     "metadata": {},
     "output_type": "execute_result"
    }
   ],
   "source": [
    "full_df.shape"
   ]
  },
  {
   "cell_type": "markdown",
   "metadata": {},
   "source": [
    "#### Saving the modified data to the disc"
   ]
  },
  {
   "cell_type": "code",
   "execution_count": 63,
   "metadata": {
    "collapsed": true
   },
   "outputs": [],
   "source": [
    "full_df.to_csv('modified_df.csv',encoding='utf-8-sig')"
   ]
  },
  {
   "cell_type": "markdown",
   "metadata": {},
   "source": [
    " "
   ]
  },
  {
   "cell_type": "markdown",
   "metadata": {},
   "source": [
    " "
   ]
  },
  {
   "cell_type": "markdown",
   "metadata": {},
   "source": [
    "## Building a Predictive Model"
   ]
  },
  {
   "cell_type": "code",
   "execution_count": 64,
   "metadata": {},
   "outputs": [
    {
     "name": "stderr",
     "output_type": "stream",
     "text": [
      "C:\\ProgramData\\Anaconda3\\lib\\site-packages\\sklearn\\cross_validation.py:41: DeprecationWarning: This module was deprecated in version 0.18 in favor of the model_selection module into which all the refactored classes and functions are moved. Also note that the interface of the new CV iterators are different from that of this module. This module will be removed in 0.20.\n",
      "  \"This module will be removed in 0.20.\", DeprecationWarning)\n"
     ]
    }
   ],
   "source": [
    "#Import models from scikit learn module:\n",
    "from sklearn.linear_model import LogisticRegression\n",
    "from sklearn.cross_validation import KFold   #For K-fold cross validation\n",
    "from sklearn.ensemble import RandomForestClassifier\n",
    "from sklearn.discriminant_analysis import LinearDiscriminantAnalysis\n",
    "from sklearn.naive_bayes import GaussianNB\n",
    "from sklearn.neighbors import KNeighborsClassifier\n",
    "from sklearn.svm import SVC\n",
    "from sklearn.tree import DecisionTreeClassifier, export_graphviz\n",
    "from sklearn import metrics\n",
    "\n",
    "#Import models from xgboost learn module:\n",
    "import xgboost\n",
    "from xgboost import XGBClassifier\n",
    "\n",
    "#Generic function for making a classification model and accessing performance:\n",
    "def classification_model(model, data, predictors, outcome):\n",
    "  #Fit the model:\n",
    "  model.fit(data[predictors],data[outcome])\n",
    "  \n",
    "  #Make predictions on full_dfing set:\n",
    "  predictions = model.predict(data[predictors])\n",
    "  \n",
    "  #Print accuracy\n",
    "  accuracy = metrics.accuracy_score(predictions,data[outcome])\n",
    "  print(\"Accuracy : %s\" % \"{0:.3%}\".format(accuracy))\n",
    "\n",
    "  #Perform k-fold cross-validation with 5 folds\n",
    "  kf = KFold(data.shape[0], n_folds=5)\n",
    "  error = []\n",
    "  for full_df, test in kf:\n",
    "    # Filter full_dfing data\n",
    "    full_df_predictors = (data[predictors].iloc[full_df,:])\n",
    "    \n",
    "    # The target we're using to full_df the algorithm.\n",
    "    full_df_target = data[outcome].iloc[full_df]\n",
    "    \n",
    "    # full_dfing the algorithm using the predictors and target.\n",
    "    model.fit(full_df_predictors, full_df_target)\n",
    "    \n",
    "    #Record error from each cross-validation run\n",
    "    error.append(model.score(data[predictors].iloc[test,:], data[outcome].iloc[test]))\n",
    " \n",
    "  print(\"Cross-Validation Score : %s\" % \"{0:.3%}\".format(np.mean(error)))\n",
    "\n",
    "  #Fit the model again so that it can be refered outside the function:\n",
    "  model.fit(data[predictors],data[outcome]) "
   ]
  },
  {
   "cell_type": "markdown",
   "metadata": {},
   "source": [
    "### Splitting the full dataframe to train & test"
   ]
  },
  {
   "cell_type": "code",
   "execution_count": 65,
   "metadata": {},
   "outputs": [
    {
     "data": {
      "text/plain": [
       "(981, 28)"
      ]
     },
     "execution_count": 65,
     "metadata": {},
     "output_type": "execute_result"
    }
   ],
   "source": [
    "full_df.shape"
   ]
  },
  {
   "cell_type": "code",
   "execution_count": 66,
   "metadata": {
    "collapsed": true
   },
   "outputs": [],
   "source": [
    "train = full_df[:614]\n",
    "test = full_df[614:]"
   ]
  },
  {
   "cell_type": "markdown",
   "metadata": {},
   "source": [
    " "
   ]
  },
  {
   "cell_type": "markdown",
   "metadata": {},
   "source": [
    "## Modeling The Data"
   ]
  },
  {
   "cell_type": "markdown",
   "metadata": {},
   "source": [
    "##### The models that will be examined are the following classification models:\n",
    "* KNN\n",
    "* Gaussian Naive Bayes\n",
    "* SVM\n",
    "* XGBoost\n",
    "* Linear Discriminant Analysis\n",
    "* Ensemble"
   ]
  },
  {
   "cell_type": "markdown",
   "metadata": {},
   "source": [
    "### The models briefly explained"
   ]
  },
  {
   "cell_type": "markdown",
   "metadata": {},
   "source": [
    "#### KNN (K- Nearest Neighbors)\n",
    "It can be used for both classification and regression problems. However, it is more widely used in classification problems in the industry. K nearest neighbors is a simple algorithm that stores all available cases and classifies new cases by a majority vote of its k neighbors. The case being assigned to the class is most common amongst its K nearest neighbors measured by a distance function.\n",
    "\n",
    "These distance functions can be Euclidean, Manhattan, Minkowski and Hamming distance. First three functions are used for continuous function and fourth one (Hamming) for categorical variables. If K = 1, then the case is simply assigned to the class of its nearest neighbor. At times, choosing K turns out to be a challenge while performing KNN modeling."
   ]
  },
  {
   "cell_type": "markdown",
   "metadata": {},
   "source": [
    "#### Gaussian Naive Bayes\n",
    "It is a classification technique based on Bayes’ theorem with an assumption of independence between predictors. In simple terms, a Naive Bayes classifier assumes that the presence of a particular feature in a class is unrelated to the presence of any other feature. For example, a fruit may be considered to be an apple if it is red, round, and about 3 inches in diameter. Even if these features depend on each other or upon the existence of the other features, a naive Bayes classifier would consider all of these properties to independently contribute to the probability that this fruit is an apple.\n",
    "\n",
    "Naive Bayesian model is easy to build and particularly useful for very large data sets. Along with simplicity, Naive Bayes is known to outperform even highly sophisticated classification methods."
   ]
  },
  {
   "cell_type": "markdown",
   "metadata": {},
   "source": [
    "#### SVM (Support Vector Machine)\n",
    "In this algorithm, we plot each data item as a point in n-dimensional space (where n is number of features you have) with the value of each feature being the value of a particular coordinate.\n",
    "For example, if we only had two features like Height and Hair length of an individual, we’d first plot these two variables in two dimensional space where each point has two co-ordinates (these co-ordinates are known as Support Vectors)"
   ]
  },
  {
   "cell_type": "markdown",
   "metadata": {},
   "source": [
    "#### Decision Tree (CART)\n",
    "It is a type of supervised learning algorithm that is mostly used for classification problems. Surprisingly, it works for both categorical and continuous dependent variables. In this algorithm, we split the population into two or more homogeneous sets. This is done based on most significant attributes/ independent variables to make as distinct groups as possible."
   ]
  },
  {
   "cell_type": "markdown",
   "metadata": {},
   "source": [
    "#### XGBoost (Extreme Gradient Boosting)\n",
    "The XGBoost has an immensely high predictive power which makes it the best choice for accuracy in events as it possesses both linear model and the tree learning algorithm, making the algorithm almost 10x faster than existing gradient booster techniques.\n",
    "\n",
    "One of the most interesting things about the XGBoost is that it is also called a regularized boosting technique. This helps to reduce overfit modelling and has a massive support for a range of languages such as Scala, Java, R, Python, Julia and C++."
   ]
  },
  {
   "cell_type": "markdown",
   "metadata": {},
   "source": [
    "#### Linear Discriminant Analysis\n",
    "Linear Discriminant Analysis (LDA) is a classification method originally developed in 1936 by R. A. Fisher. It is simple, mathematically robust and often produces models whose accuracy is as good as more complex methods.\t\t\n",
    " \t\t\n",
    "LDA is based upon the concept of searching for a linear combination of variables (predictors) that best separates two classes (targets). To capture the notion of separability, Fisher defined the following score function."
   ]
  },
  {
   "cell_type": "markdown",
   "metadata": {},
   "source": [
    "#### Ensemble Learning\n",
    "Ensemble is the art of combining diverse set of learners (individual models) together to improvise on the stability and predictive power of the model. In the above example, the way we combine all the predictions together will be termed as Ensemble Learning."
   ]
  },
  {
   "cell_type": "markdown",
   "metadata": {},
   "source": [
    " "
   ]
  },
  {
   "cell_type": "markdown",
   "metadata": {},
   "source": [
    "### Practical part"
   ]
  },
  {
   "cell_type": "markdown",
   "metadata": {},
   "source": [
    "##### Setting the outcome variable"
   ]
  },
  {
   "cell_type": "code",
   "execution_count": 67,
   "metadata": {
    "collapsed": true
   },
   "outputs": [],
   "source": [
    "outcome_var = 'Loan_Status'"
   ]
  },
  {
   "cell_type": "markdown",
   "metadata": {},
   "source": [
    "### Initial examination of the models"
   ]
  },
  {
   "cell_type": "code",
   "execution_count": 68,
   "metadata": {},
   "outputs": [
    {
     "name": "stdout",
     "output_type": "stream",
     "text": [
      "LDA: 0.809483 (0.029787)\n",
      "KNN: 0.783402 (0.045498)\n",
      "CART: 0.700415 (0.056597)\n",
      "NB: 0.811117 (0.032041)\n",
      "SVM: 0.807849 (0.027250)\n",
      "XGBoost: 0.804644 (0.035159)\n"
     ]
    },
    {
     "data": {
      "image/png": "[encoded data removed]",
      "text/plain": [
       "<matplotlib.figure.Figure at 0x254dc673470>"
      ]
     },
     "metadata": {},
     "output_type": "display_data"
    }
   ],
   "source": [
    "from sklearn import model_selection\n",
    "\n",
    "train_target = train['Loan_Status'].as_matrix()\n",
    "features = ['Credit_History', 'Loan_PM_TotInc_log', 'Loan_Ratio']\n",
    "train_vars = train[features].copy().as_matrix()\n",
    "X, Y = train_vars, train_target\n",
    "\n",
    "# Prepare configuration for cross validation\n",
    "seed = 7\n",
    "\n",
    "# Prepare models\n",
    "models = []\n",
    "models.append(('LDA', LinearDiscriminantAnalysis())) # Adding the LinearDiscriminantAnalysis model\n",
    "models.append(('KNN', KNeighborsClassifier())) # Adding the KNN model\n",
    "models.append(('CART', DecisionTreeClassifier())) # Adding the CART model\n",
    "models.append(('NB', GaussianNB())) # Adding the Naive Bayes model\n",
    "models.append(('SVM', SVC())) # Adding the SVM model\n",
    "models.append(('XGBoost', XGBClassifier())) # Adding the XGBoost model\n",
    "\n",
    "# Evaluate each model in turn\n",
    "results = []\n",
    "names = []\n",
    "scoring = 'accuracy'\n",
    "for name, model in models:\n",
    "    kfold = model_selection.KFold(n_splits=12, random_state=seed)\n",
    "    cv_results = model_selection.cross_val_score(model, X, Y, cv=kfold, scoring=scoring)\n",
    "    results.append(cv_results)\n",
    "    names.append(name)\n",
    "    msg = \"%s: %f (%f)\" % (name, cv_results.mean(), cv_results.std())\n",
    "    print(msg)\n",
    "\n",
    "# Plot the model comparison\n",
    "fig = plt.figure()\n",
    "fig.suptitle('Algorithm Comparison')\n",
    "ax = fig.add_subplot(111)\n",
    "plt.boxplot(results)\n",
    "ax.set_xticklabels(names)\n",
    "plt.show()"
   ]
  },
  {
   "cell_type": "markdown",
   "metadata": {},
   "source": [
    "## Examination of ensemble modeling"
   ]
  },
  {
   "cell_type": "code",
   "execution_count": 69,
   "metadata": {
    "scrolled": true
   },
   "outputs": [
    {
     "name": "stdout",
     "output_type": "stream",
     "text": [
      "Accuracy: 0.81 (+/- 0.03) [LinearDiscriminantAnalysis]\n",
      "Accuracy: 0.79 (+/- 0.03) [XGBClassifier]\n",
      "Accuracy: 0.81 (+/- 0.03) [naive Bayes]\n",
      "Accuracy: 0.70 (+/- 0.05) [CART]\n",
      "Accuracy: 0.78 (+/- 0.03) [KNN]\n",
      "Accuracy: 0.81 (+/- 0.03) [SVM]\n",
      "Accuracy: 0.80 (+/- 0.03) [Ensemble]\n"
     ]
    }
   ],
   "source": [
    "from sklearn.model_selection import cross_val_score\n",
    "from sklearn.ensemble import VotingClassifier\n",
    "\n",
    "train_target = train['Loan_Status'].as_matrix()\n",
    "features = ['Credit_History', 'Loan_PM_TotInc_log']\n",
    "train_vars = train[features].copy().as_matrix()\n",
    "X, y = train_vars, train_target\n",
    "\n",
    "# Prepare models\n",
    "clf1 = LinearDiscriminantAnalysis() # Adding the LinearDiscriminantAnalysis model\n",
    "clf2 = XGBClassifier(random_state=1) # Adding the XGBoost model\n",
    "clf3 = GaussianNB() # Adding the Naive Bayes model\n",
    "clf4 = DecisionTreeClassifier() # Adding the CART model\n",
    "clf5 = KNeighborsClassifier() # Adding the KNN model\n",
    "clf6 = SVC() # Adding the SVM model\n",
    "\n",
    "# Preparing the voting model\n",
    "eclf = VotingClassifier(estimators=[('lda', clf1), ('xgboost', clf2), ('gnb', clf3), ('cart', clf4), ('knn', clf5), ('svm', clf6)], voting='hard')\n",
    "\n",
    "# Scoring and printing the output\n",
    "for clf, label in zip([clf1, clf2, clf3, clf4, clf5, clf6, eclf], ['LinearDiscriminantAnalysis', 'XGBClassifier', 'naive Bayes', 'CART', 'KNN', 'SVM', 'Ensemble']):\n",
    "    scores = cross_val_score(clf, X, y, cv=5, scoring='accuracy')\n",
    "    print(\"Accuracy: %0.2f (+/- %0.2f) [%s]\" % (scores.mean(), scores.std(), label))"
   ]
  },
  {
   "cell_type": "code",
   "execution_count": 70,
   "metadata": {},
   "outputs": [
    {
     "name": "stdout",
     "output_type": "stream",
     "text": [
      "Accuracy : 82.736%\n",
      "Cross-Validation Score : 80.132%\n"
     ]
    }
   ],
   "source": [
    "# Predicting with the Ensemble model\n",
    "predictor_var = ['Credit_History', 'Loan_PM_TotInc_log']\n",
    "classification_model(eclf, train,predictor_var,outcome_var)"
   ]
  },
  {
   "cell_type": "code",
   "execution_count": 71,
   "metadata": {
    "collapsed": true
   },
   "outputs": [],
   "source": [
    "# Saving the prediction of the Test to the disc\n",
    "test2 = test[predictor_var].copy()\n",
    "submit = test['Loan_ID']\n",
    "preds = eclf.predict(test2)\n",
    "preds = pd.Series(preds)\n",
    "submit = pd.concat([submit, preds], names=['Loan_ID', 'Loan_Status'], axis=1)\n",
    "submit.columns = ['Loan_ID', 'Loan_Status']\n",
    "submit['Loan_Status'] = submit['Loan_Status'].map({1:'Y', 0:'N'})\n",
    "submit.to_csv('submit/Ensemble.csv', index=False)"
   ]
  },
  {
   "cell_type": "markdown",
   "metadata": {},
   "source": [
    "## KNN"
   ]
  },
  {
   "cell_type": "code",
   "execution_count": 72,
   "metadata": {
    "scrolled": true
   },
   "outputs": [
    {
     "name": "stdout",
     "output_type": "stream",
     "text": [
      "Accuracy : 80.456%\n",
      "Cross-Validation Score : 79.482%\n"
     ]
    }
   ],
   "source": [
    "# Predicting with the KNN model\n",
    "model = KNeighborsClassifier(n_neighbors=12)\n",
    "predictor_var = ['Credit_History', 'Loan_PM_TotInc_log']\n",
    "classification_model(model, train,predictor_var,outcome_var)"
   ]
  },
  {
   "cell_type": "code",
   "execution_count": 73,
   "metadata": {
    "collapsed": true
   },
   "outputs": [],
   "source": [
    "# Saving the prediction of the Test to the disc\n",
    "test2 = test[predictor_var].copy()\n",
    "submit = test['Loan_ID']\n",
    "preds = model.predict(test2)\n",
    "preds = pd.Series(preds)\n",
    "submit = pd.concat([submit, preds], names=['Loan_ID', 'Loan_Status'], axis=1)\n",
    "submit.columns = ['Loan_ID', 'Loan_Status']\n",
    "submit['Loan_Status'] = submit['Loan_Status'].map({1:'Y', 0:'N'})\n",
    "submit.to_csv('submit/knn.csv', index=False)"
   ]
  },
  {
   "cell_type": "markdown",
   "metadata": {},
   "source": [
    "## GaussianNB"
   ]
  },
  {
   "cell_type": "code",
   "execution_count": 74,
   "metadata": {
    "scrolled": true
   },
   "outputs": [
    {
     "name": "stdout",
     "output_type": "stream",
     "text": [
      "Accuracy : 81.433%\n",
      "Cross-Validation Score : 80.948%\n"
     ]
    }
   ],
   "source": [
    "# Predicting with the Naive Bayes model\n",
    "model = GaussianNB()\n",
    "predictor_var = ['TotalIncome_log','LoanAmount_log','Credit_History','Property_Area', 'Loan_Ratio']\n",
    "classification_model(model, train,predictor_var,outcome_var)"
   ]
  },
  {
   "cell_type": "code",
   "execution_count": 75,
   "metadata": {
    "collapsed": true
   },
   "outputs": [],
   "source": [
    "# Saving the prediction of the Test to the disc\n",
    "test2 = test[predictor_var].copy()\n",
    "submit = test['Loan_ID']\n",
    "preds = model.predict(test2)\n",
    "preds = pd.Series(preds)\n",
    "submit = pd.concat([submit, preds], names=['Loan_ID', 'Loan_Status'], axis=1)\n",
    "submit.columns = ['Loan_ID', 'Loan_Status']\n",
    "submit['Loan_Status'] = submit['Loan_Status'].map({1:'Y', 0:'N'})\n",
    "submit.to_csv('submit/GaussianNB.csv', index=False)"
   ]
  },
  {
   "cell_type": "markdown",
   "metadata": {},
   "source": [
    "## SVM"
   ]
  },
  {
   "cell_type": "code",
   "execution_count": 76,
   "metadata": {
    "collapsed": true
   },
   "outputs": [],
   "source": [
    "predictor_var = [\n",
    " 'Property_Area',\n",
    " 'Credit_History',\n",
    " 'Loan_PM_TotInc_log',\n",
    " 'Loan_PM_PCapita_log'\n",
    "]"
   ]
  },
  {
   "cell_type": "markdown",
   "metadata": {},
   "source": [
    "### SVM with parameter tweaking"
   ]
  },
  {
   "cell_type": "code",
   "execution_count": 77,
   "metadata": {
    "scrolled": true
   },
   "outputs": [
    {
     "name": "stderr",
     "output_type": "stream",
     "text": [
      "C:\\ProgramData\\Anaconda3\\lib\\site-packages\\sklearn\\grid_search.py:42: DeprecationWarning: This module was deprecated in version 0.18 in favor of the model_selection module into which all the refactored classes and functions are moved. This module will be removed in 0.20.\n",
      "  DeprecationWarning)\n"
     ]
    },
    {
     "data": {
      "text/plain": [
       "([mean: 0.72888, std: 0.04950, params: {'C': 0.001, 'gamma': 0.001},\n",
       "  mean: 0.73997, std: 0.04240, params: {'C': 0.001, 'gamma': 0.05},\n",
       "  mean: 0.75092, std: 0.04824, params: {'C': 0.001, 'gamma': 0.01},\n",
       "  mean: 0.75552, std: 0.02174, params: {'C': 0.001, 'gamma': 0.1},\n",
       "  mean: 0.75676, std: 0.04254, params: {'C': 0.001, 'gamma': 0.2},\n",
       "  mean: 0.74297, std: 0.02469, params: {'C': 0.001, 'gamma': 0.5},\n",
       "  mean: 0.75456, std: 0.01201, params: {'C': 0.001, 'gamma': 1},\n",
       "  mean: 0.72888, std: 0.04950, params: {'C': 0.01, 'gamma': 0.001},\n",
       "  mean: 0.75821, std: 0.03453, params: {'C': 0.01, 'gamma': 0.05},\n",
       "  mean: 0.71993, std: 0.05463, params: {'C': 0.01, 'gamma': 0.01},\n",
       "  mean: 0.74180, std: 0.03958, params: {'C': 0.01, 'gamma': 0.1},\n",
       "  mean: 0.73017, std: 0.02304, params: {'C': 0.01, 'gamma': 0.2},\n",
       "  mean: 0.74147, std: 0.01691, params: {'C': 0.01, 'gamma': 0.5},\n",
       "  mean: 0.75715, std: 0.01612, params: {'C': 0.01, 'gamma': 1},\n",
       "  mean: 0.71855, std: 0.06194, params: {'C': 0.1, 'gamma': 0.001},\n",
       "  mean: 0.74524, std: 0.02690, params: {'C': 0.1, 'gamma': 0.05},\n",
       "  mean: 0.74265, std: 0.04015, params: {'C': 0.1, 'gamma': 0.01},\n",
       "  mean: 0.74024, std: 0.03140, params: {'C': 0.1, 'gamma': 0.1},\n",
       "  mean: 0.73221, std: 0.02091, params: {'C': 0.1, 'gamma': 0.2},\n",
       "  mean: 0.74100, std: 0.01728, params: {'C': 0.1, 'gamma': 0.5},\n",
       "  mean: 0.74740, std: 0.01817, params: {'C': 0.1, 'gamma': 1},\n",
       "  mean: 0.76080, std: 0.05359, params: {'C': 0.5, 'gamma': 0.001},\n",
       "  mean: 0.75136, std: 0.03314, params: {'C': 0.5, 'gamma': 0.05},\n",
       "  mean: 0.76121, std: 0.02310, params: {'C': 0.5, 'gamma': 0.01},\n",
       "  mean: 0.75194, std: 0.03390, params: {'C': 0.5, 'gamma': 0.1},\n",
       "  mean: 0.75219, std: 0.04088, params: {'C': 0.5, 'gamma': 0.2},\n",
       "  mean: 0.74275, std: 0.03066, params: {'C': 0.5, 'gamma': 0.5},\n",
       "  mean: 0.74895, std: 0.02638, params: {'C': 0.5, 'gamma': 1},\n",
       "  mean: 0.74768, std: 0.03558, params: {'C': 0.9, 'gamma': 0.001},\n",
       "  mean: 0.75005, std: 0.03160, params: {'C': 0.9, 'gamma': 0.05},\n",
       "  mean: 0.76573, std: 0.03720, params: {'C': 0.9, 'gamma': 0.01},\n",
       "  mean: 0.75246, std: 0.03247, params: {'C': 0.9, 'gamma': 0.1},\n",
       "  mean: 0.74966, std: 0.04307, params: {'C': 0.9, 'gamma': 0.2},\n",
       "  mean: 0.74703, std: 0.04014, params: {'C': 0.9, 'gamma': 0.5},\n",
       "  mean: 0.74176, std: 0.03668, params: {'C': 0.9, 'gamma': 1},\n",
       "  mean: 0.71823, std: 0.05947, params: {'C': 1, 'gamma': 0.001},\n",
       "  mean: 0.74950, std: 0.03214, params: {'C': 1, 'gamma': 0.05},\n",
       "  mean: 0.77049, std: 0.03241, params: {'C': 1, 'gamma': 0.01},\n",
       "  mean: 0.75293, std: 0.03263, params: {'C': 1, 'gamma': 0.1},\n",
       "  mean: 0.74924, std: 0.04566, params: {'C': 1, 'gamma': 0.2},\n",
       "  mean: 0.74302, std: 0.04759, params: {'C': 1, 'gamma': 0.5},\n",
       "  mean: 0.73904, std: 0.04091, params: {'C': 1, 'gamma': 1},\n",
       "  mean: 0.71190, std: 0.05625, params: {'C': 1.1, 'gamma': 0.001},\n",
       "  mean: 0.74974, std: 0.03105, params: {'C': 1.1, 'gamma': 0.05},\n",
       "  mean: 0.76195, std: 0.01851, params: {'C': 1.1, 'gamma': 0.01},\n",
       "  mean: 0.75201, std: 0.03334, params: {'C': 1.1, 'gamma': 0.1},\n",
       "  mean: 0.74906, std: 0.04534, params: {'C': 1.1, 'gamma': 0.2},\n",
       "  mean: 0.74193, std: 0.05237, params: {'C': 1.1, 'gamma': 0.5},\n",
       "  mean: 0.73736, std: 0.04107, params: {'C': 1.1, 'gamma': 1},\n",
       "  mean: 0.73656, std: 0.04466, params: {'C': 1.5, 'gamma': 0.001},\n",
       "  mean: 0.74886, std: 0.02992, params: {'C': 1.5, 'gamma': 0.05},\n",
       "  mean: 0.76321, std: 0.03181, params: {'C': 1.5, 'gamma': 0.01},\n",
       "  mean: 0.75023, std: 0.03849, params: {'C': 1.5, 'gamma': 0.1},\n",
       "  mean: 0.74731, std: 0.04640, params: {'C': 1.5, 'gamma': 0.2},\n",
       "  mean: 0.73842, std: 0.05374, params: {'C': 1.5, 'gamma': 0.5},\n",
       "  mean: 0.73075, std: 0.03895, params: {'C': 1.5, 'gamma': 1},\n",
       "  mean: 0.74868, std: 0.04186, params: {'C': 2, 'gamma': 0.001},\n",
       "  mean: 0.74952, std: 0.02838, params: {'C': 2, 'gamma': 0.05},\n",
       "  mean: 0.75999, std: 0.03138, params: {'C': 2, 'gamma': 0.01},\n",
       "  mean: 0.74714, std: 0.04388, params: {'C': 2, 'gamma': 0.1},\n",
       "  mean: 0.74153, std: 0.04701, params: {'C': 2, 'gamma': 0.2},\n",
       "  mean: 0.73714, std: 0.05320, params: {'C': 2, 'gamma': 0.5},\n",
       "  mean: 0.72865, std: 0.03969, params: {'C': 2, 'gamma': 1},\n",
       "  mean: 0.76161, std: 0.01739, params: {'C': 10, 'gamma': 0.001},\n",
       "  mean: 0.74158, std: 0.04366, params: {'C': 10, 'gamma': 0.05},\n",
       "  mean: 0.74359, std: 0.03028, params: {'C': 10, 'gamma': 0.01},\n",
       "  mean: 0.72879, std: 0.07018, params: {'C': 10, 'gamma': 0.1},\n",
       "  mean: 0.72367, std: 0.03843, params: {'C': 10, 'gamma': 0.2},\n",
       "  mean: 0.71600, std: 0.04379, params: {'C': 10, 'gamma': 0.5},\n",
       "  mean: 0.70346, std: 0.03039, params: {'C': 10, 'gamma': 1}],\n",
       " {'C': 1, 'gamma': 0.01},\n",
       " 0.7704903094841177)"
      ]
     },
     "execution_count": 77,
     "metadata": {},
     "output_type": "execute_result"
    }
   ],
   "source": [
    "from sklearn.grid_search import GridSearchCV\n",
    "\n",
    "Cs = [0.001, 0.01, 0.1, 0.5, 0.9, 1, 1.1, 1.5, 2, 10]\n",
    "gammas = [0.001, 0.05, 0.01, 0.1, 0.2, 0.5, 1]\n",
    "param_grid = {'C': Cs, 'gamma' : gammas}\n",
    "\n",
    "gsearch1 = GridSearchCV(estimator = SVC(kernel='rbf'), param_grid = param_grid, scoring='roc_auc',n_jobs=4,iid=False, cv=5)\n",
    "gsearch1.fit(train[predictor_var],train[outcome_var])\n",
    "gsearch1.grid_scores_, gsearch1.best_params_, gsearch1.best_score_"
   ]
  },
  {
   "cell_type": "code",
   "execution_count": 78,
   "metadata": {},
   "outputs": [
    {
     "name": "stdout",
     "output_type": "stream",
     "text": [
      "Accuracy : 80.945%\n",
      "Cross-Validation Score : 80.784%\n"
     ]
    }
   ],
   "source": [
    "# Predicting with the SVM tweaked model\n",
    "model = SVC(kernel='rbf', gamma=0.01, C=1)\n",
    "classification_model(model, train,predictor_var,outcome_var)"
   ]
  },
  {
   "cell_type": "code",
   "execution_count": 79,
   "metadata": {
    "collapsed": true
   },
   "outputs": [],
   "source": [
    "# Saving the prediction of the Test to the disc\n",
    "test2 = test[predictor_var].copy()\n",
    "submit = test['Loan_ID']\n",
    "preds = model.predict(test2)\n",
    "preds = pd.Series(preds)\n",
    "submit = pd.concat([submit, preds], names=['Loan_ID', 'Loan_Status'], axis=1)\n",
    "submit.columns = ['Loan_ID', 'Loan_Status']\n",
    "submit['Loan_Status'] = submit['Loan_Status'].map({1:'Y', 0:'N'})\n",
    "submit.to_csv('submit/SVC_tweaked.csv', index=False)"
   ]
  },
  {
   "cell_type": "markdown",
   "metadata": {},
   "source": [
    "### Default SVM"
   ]
  },
  {
   "cell_type": "code",
   "execution_count": 80,
   "metadata": {},
   "outputs": [
    {
     "name": "stdout",
     "output_type": "stream",
     "text": [
      "Accuracy : 81.270%\n",
      "Cross-Validation Score : 80.946%\n"
     ]
    }
   ],
   "source": [
    "# Predicting with the SVM default model\n",
    "model = SVC()\n",
    "classification_model(model, train,predictor_var,outcome_var)"
   ]
  },
  {
   "cell_type": "code",
   "execution_count": 81,
   "metadata": {
    "collapsed": true
   },
   "outputs": [],
   "source": [
    "# Saving the prediction of the Test to the disc\n",
    "test2 = test[predictor_var].copy()\n",
    "submit = test['Loan_ID']\n",
    "preds = model.predict(test2)\n",
    "preds = pd.Series(preds)\n",
    "submit = pd.concat([submit, preds], names=['Loan_ID', 'Loan_Status'], axis=1)\n",
    "submit.columns = ['Loan_ID', 'Loan_Status']\n",
    "submit['Loan_Status'] = submit['Loan_Status'].map({1:'Y', 0:'N'})\n",
    "submit.to_csv('submit/SVC.csv', index=False)"
   ]
  },
  {
   "cell_type": "markdown",
   "metadata": {},
   "source": [
    "## XGBoost"
   ]
  },
  {
   "cell_type": "markdown",
   "metadata": {},
   "source": [
    "### Default XGBoost"
   ]
  },
  {
   "cell_type": "code",
   "execution_count": 82,
   "metadata": {},
   "outputs": [
    {
     "name": "stdout",
     "output_type": "stream",
     "text": [
      "Accuracy : 83.388%\n",
      "Cross-Validation Score : 78.507%\n"
     ]
    }
   ],
   "source": [
    "# Predicting with the XGBoost model\n",
    "model = xgboost.XGBClassifier(max_depth=4, learning_rate=0.1, n_estimators=110, objective='binary:logistic', booster='gbtree', n_jobs=30) # Feature tweaking\n",
    "predictor_var = ['Credit_History', 'Loan_PM_TotInc_log']\n",
    "classification_model(model, train,predictor_var,outcome_var)"
   ]
  },
  {
   "cell_type": "code",
   "execution_count": 83,
   "metadata": {
    "collapsed": true
   },
   "outputs": [],
   "source": [
    "# Saving the prediction of the Test to the disc\n",
    "test2 = test[predictor_var].copy()\n",
    "submit = test['Loan_ID']\n",
    "preds = model.predict(test2)\n",
    "preds = pd.Series(preds)\n",
    "submit = pd.concat([submit, preds], names=['Loan_ID', 'Loan_Status'], axis=1)\n",
    "submit.columns = ['Loan_ID', 'Loan_Status']\n",
    "submit['Loan_Status'] = submit['Loan_Status'].map({1:'Y', 0:'N'})\n",
    "submit.to_csv('submit/xgboost.csv', index=False)"
   ]
  },
  {
   "cell_type": "code",
   "execution_count": 84,
   "metadata": {},
   "outputs": [
    {
     "data": {
      "text/plain": [
       "<matplotlib.axes._subplots.AxesSubplot at 0x254dc0b7160>"
      ]
     },
     "execution_count": 84,
     "metadata": {},
     "output_type": "execute_result"
    },
    {
     "data": {
      "image/png": "[encoded data removed]",
      "text/plain": [
       "<matplotlib.figure.Figure at 0x254dc6f7b00>"
      ]
     },
     "metadata": {},
     "output_type": "display_data"
    }
   ],
   "source": [
    "# Feature analysis\n",
    "features = pd.DataFrame()\n",
    "features['feature'] = predictor_var\n",
    "features['importance'] = model.feature_importances_\n",
    "features.sort_values(by=['importance'], ascending=True, inplace=True)\n",
    "features.set_index('feature', inplace=True)\n",
    "features.plot(kind='barh')"
   ]
  },
  {
   "cell_type": "markdown",
   "metadata": {},
   "source": [
    "### XGBoost with parameter tweaking"
   ]
  },
  {
   "cell_type": "code",
   "execution_count": 85,
   "metadata": {
    "collapsed": true
   },
   "outputs": [],
   "source": [
    "import xgboost as xgb\n",
    "target = outcome_var"
   ]
  },
  {
   "cell_type": "code",
   "execution_count": 86,
   "metadata": {
    "collapsed": true
   },
   "outputs": [],
   "source": [
    "predictors = [\n",
    " 'Property_Area',\n",
    " 'Credit_History',\n",
    " 'Loan_PM_TotInc_log',\n",
    " 'Loan_PM_PCapita_log'\n",
    "]"
   ]
  },
  {
   "cell_type": "markdown",
   "metadata": {},
   "source": [
    "#### Evaluation function"
   ]
  },
  {
   "cell_type": "code",
   "execution_count": 87,
   "metadata": {},
   "outputs": [],
   "source": [
    "def modelfit(alg, dtrain, predictors,useTrainCV=True, cv_folds=5, early_stopping_rounds=50):\n",
    "    if useTrainCV:\n",
    "        xgb_param = alg.get_xgb_params()\n",
    "        xgtrain = xgb.DMatrix(dtrain[predictors].values, label=dtrain[target].values)\n",
    "        cvresult = xgb.cv(xgb_param, xgtrain, num_boost_round=alg.get_params()['n_estimators'], nfold=cv_folds,\n",
    "            metrics='auc', early_stopping_rounds=early_stopping_rounds)\n",
    "        alg.set_params(n_estimators=cvresult.shape[0])\n",
    "    \n",
    "    #Fit the algorithm on the data\n",
    "    alg.fit(dtrain[predictors], dtrain[target],eval_metric='auc')\n",
    "        \n",
    "    #Predict training set:\n",
    "    dtrain_predictions = alg.predict(dtrain[predictors])\n",
    "    dtrain_predprob = alg.predict_proba(dtrain[predictors])[:,1]\n",
    "        \n",
    "    #Print model report:\n",
    "    print (\"\\nModel Report\")\n",
    "    print (\"Accuracy : %.4g\" % metrics.accuracy_score(dtrain[target].values, dtrain_predictions))\n",
    "    print (\"AUC Score (Train): %f\" % metrics.roc_auc_score(dtrain[target], dtrain_predprob))\n",
    "                    \n",
    "    features = pd.DataFrame()\n",
    "    features['feature'] = predictors\n",
    "    features['importance'] = alg.feature_importances_\n",
    "    features.sort_values(by=['importance'], ascending=True, inplace=True)\n",
    "    features.set_index('feature', inplace=True)\n",
    "    features.plot(kind='barh')"
   ]
  },
  {
   "cell_type": "code",
   "execution_count": 88,
   "metadata": {},
   "outputs": [
    {
     "name": "stdout",
     "output_type": "stream",
     "text": [
      "\n",
      "Model Report\n",
      "Accuracy : 0.8322\n",
      "AUC Score (Train): 0.882374\n"
     ]
    },
    {
     "data": {
      "image/png": "[encoded data removed]",
      "text/plain": [
       "<matplotlib.figure.Figure at 0x254dced7ef0>"
      ]
     },
     "metadata": {},
     "output_type": "display_data"
    }
   ],
   "source": [
    "# First classifier\n",
    "xgb1 = XGBClassifier(\n",
    " learning_rate =0.1,\n",
    " n_estimators=140,\n",
    " max_depth=5,\n",
    " min_child_weight=1,\n",
    " gamma=0,\n",
    " subsample=0.8,\n",
    " colsample_bytree=0.8,\n",
    " objective= 'binary:logistic',\n",
    " nthread=4,\n",
    " scale_pos_weight=1,\n",
    " seed=27)\n",
    "modelfit(xgb1, train, predictors)"
   ]
  },
  {
   "cell_type": "markdown",
   "metadata": {},
   "source": [
    "#### Searching the best 'max_depth' & 'min_child_weight' values"
   ]
  },
  {
   "cell_type": "code",
   "execution_count": 89,
   "metadata": {},
   "outputs": [
    {
     "data": {
      "text/plain": [
       "([mean: 0.76619, std: 0.04670, params: {'max_depth': 3, 'min_child_weight': 1},\n",
       "  mean: 0.78317, std: 0.03692, params: {'max_depth': 3, 'min_child_weight': 6},\n",
       "  mean: 0.76502, std: 0.05249, params: {'max_depth': 3, 'min_child_weight': 2},\n",
       "  mean: 0.74548, std: 0.05202, params: {'max_depth': 10, 'min_child_weight': 1},\n",
       "  mean: 0.77857, std: 0.04492, params: {'max_depth': 10, 'min_child_weight': 6},\n",
       "  mean: 0.75949, std: 0.05542, params: {'max_depth': 10, 'min_child_weight': 2},\n",
       "  mean: 0.77713, std: 0.04071, params: {'max_depth': 2, 'min_child_weight': 1},\n",
       "  mean: 0.79086, std: 0.03100, params: {'max_depth': 2, 'min_child_weight': 6},\n",
       "  mean: 0.78143, std: 0.04096, params: {'max_depth': 2, 'min_child_weight': 2}],\n",
       " {'max_depth': 2, 'min_child_weight': 6},\n",
       " 0.7908623084861475)"
      ]
     },
     "execution_count": 89,
     "metadata": {},
     "output_type": "execute_result"
    }
   ],
   "source": [
    "param_test1 = {\n",
    " 'max_depth':(3,10,2),\n",
    " 'min_child_weight':(1,6,2)\n",
    "}\n",
    "gsearch1 = GridSearchCV(estimator = XGBClassifier( learning_rate =0.1, n_estimators=140, max_depth=5,\n",
    " min_child_weight=1, gamma=0, subsample=0.8, colsample_bytree=0.8,\n",
    " objective= 'binary:logistic', nthread=4, scale_pos_weight=1, seed=27), \n",
    " param_grid = param_test1, scoring='roc_auc',n_jobs=4,iid=False, cv=5)\n",
    "gsearch1.fit(train[predictors],train[target])\n",
    "gsearch1.grid_scores_, gsearch1.best_params_, gsearch1.best_score_"
   ]
  },
  {
   "cell_type": "code",
   "execution_count": 90,
   "metadata": {},
   "outputs": [
    {
     "data": {
      "text/plain": [
       "([mean: 0.78210, std: 0.02722, params: {'max_depth': 1, 'min_child_weight': 5},\n",
       "  mean: 0.78437, std: 0.02787, params: {'max_depth': 1, 'min_child_weight': 6},\n",
       "  mean: 0.79024, std: 0.02253, params: {'max_depth': 1, 'min_child_weight': 7},\n",
       "  mean: 0.78327, std: 0.02396, params: {'max_depth': 1, 'min_child_weight': 8},\n",
       "  mean: 0.77888, std: 0.02456, params: {'max_depth': 1, 'min_child_weight': 9},\n",
       "  mean: 0.78876, std: 0.03539, params: {'max_depth': 2, 'min_child_weight': 5},\n",
       "  mean: 0.79086, std: 0.03100, params: {'max_depth': 2, 'min_child_weight': 6},\n",
       "  mean: 0.79239, std: 0.03116, params: {'max_depth': 2, 'min_child_weight': 7},\n",
       "  mean: 0.79267, std: 0.02787, params: {'max_depth': 2, 'min_child_weight': 8},\n",
       "  mean: 0.78313, std: 0.02948, params: {'max_depth': 2, 'min_child_weight': 9},\n",
       "  mean: 0.77800, std: 0.04270, params: {'max_depth': 3, 'min_child_weight': 5},\n",
       "  mean: 0.78317, std: 0.03692, params: {'max_depth': 3, 'min_child_weight': 6},\n",
       "  mean: 0.78442, std: 0.04423, params: {'max_depth': 3, 'min_child_weight': 7},\n",
       "  mean: 0.78224, std: 0.03908, params: {'max_depth': 3, 'min_child_weight': 8},\n",
       "  mean: 0.78126, std: 0.03732, params: {'max_depth': 3, 'min_child_weight': 9}],\n",
       " {'max_depth': 2, 'min_child_weight': 8},\n",
       " 0.7926677270098323)"
      ]
     },
     "execution_count": 90,
     "metadata": {},
     "output_type": "execute_result"
    }
   ],
   "source": [
    "param_test2 = {\n",
    " 'max_depth':[1,2,3],\n",
    " 'min_child_weight':[5,6,7,8,9]\n",
    "}\n",
    "gsearch2 = GridSearchCV(estimator = XGBClassifier( learning_rate=0.1, n_estimators=140, max_depth=2,\n",
    " min_child_weight=6, gamma=0, subsample=0.8, colsample_bytree=0.8,\n",
    " objective= 'binary:logistic', nthread=4, scale_pos_weight=1,seed=27), \n",
    " param_grid = param_test2, scoring='roc_auc',n_jobs=4,iid=False, cv=5)\n",
    "gsearch2.fit(train[predictors],train[target])\n",
    "gsearch2.grid_scores_, gsearch2.best_params_, gsearch2.best_score_"
   ]
  },
  {
   "cell_type": "code",
   "execution_count": 91,
   "metadata": {
    "scrolled": false
   },
   "outputs": [
    {
     "data": {
      "text/plain": [
       "([mean: 0.78210, std: 0.02722, params: {'max_depth': 1, 'min_child_weight': 5},\n",
       "  mean: 0.78437, std: 0.02787, params: {'max_depth': 1, 'min_child_weight': 6},\n",
       "  mean: 0.79024, std: 0.02253, params: {'max_depth': 1, 'min_child_weight': 7},\n",
       "  mean: 0.78327, std: 0.02396, params: {'max_depth': 1, 'min_child_weight': 8},\n",
       "  mean: 0.77888, std: 0.02456, params: {'max_depth': 1, 'min_child_weight': 9},\n",
       "  mean: 0.78876, std: 0.03539, params: {'max_depth': 2, 'min_child_weight': 5},\n",
       "  mean: 0.79086, std: 0.03100, params: {'max_depth': 2, 'min_child_weight': 6},\n",
       "  mean: 0.79239, std: 0.03116, params: {'max_depth': 2, 'min_child_weight': 7},\n",
       "  mean: 0.79267, std: 0.02787, params: {'max_depth': 2, 'min_child_weight': 8},\n",
       "  mean: 0.78313, std: 0.02948, params: {'max_depth': 2, 'min_child_weight': 9},\n",
       "  mean: 0.77800, std: 0.04270, params: {'max_depth': 3, 'min_child_weight': 5},\n",
       "  mean: 0.78317, std: 0.03692, params: {'max_depth': 3, 'min_child_weight': 6},\n",
       "  mean: 0.78442, std: 0.04423, params: {'max_depth': 3, 'min_child_weight': 7},\n",
       "  mean: 0.78224, std: 0.03908, params: {'max_depth': 3, 'min_child_weight': 8},\n",
       "  mean: 0.78126, std: 0.03732, params: {'max_depth': 3, 'min_child_weight': 9}],\n",
       " {'max_depth': 2, 'min_child_weight': 8},\n",
       " 0.7926677270098323)"
      ]
     },
     "execution_count": 91,
     "metadata": {},
     "output_type": "execute_result"
    }
   ],
   "source": [
    "param_test2b = {\n",
    " 'min_child_weight':[6,8,10,12]\n",
    "}\n",
    "gsearch2b = GridSearchCV(estimator = XGBClassifier( learning_rate=0.1, n_estimators=140, max_depth=2,\n",
    " min_child_weight=8, gamma=0, subsample=0.8, colsample_bytree=0.8,\n",
    " objective= 'binary:logistic', nthread=4, scale_pos_weight=1,seed=27), \n",
    " param_grid = param_test2b, scoring='roc_auc',n_jobs=4,iid=False, cv=5)\n",
    "gsearch2b.fit(train[predictors],train[target])\n",
    "gsearch2.grid_scores_, gsearch2.best_params_, gsearch2.best_score_"
   ]
  },
  {
   "cell_type": "markdown",
   "metadata": {},
   "source": [
    "#### Searching the best 'gamma' values"
   ]
  },
  {
   "cell_type": "code",
   "execution_count": 92,
   "metadata": {},
   "outputs": [
    {
     "data": {
      "text/plain": [
       "([mean: 0.79267, std: 0.02787, params: {'gamma': 0.0},\n",
       "  mean: 0.79254, std: 0.02781, params: {'gamma': 0.1},\n",
       "  mean: 0.79237, std: 0.02840, params: {'gamma': 0.2},\n",
       "  mean: 0.79073, std: 0.02969, params: {'gamma': 0.3},\n",
       "  mean: 0.79312, std: 0.02870, params: {'gamma': 0.4},\n",
       "  mean: 0.79197, std: 0.02864, params: {'gamma': 0.5},\n",
       "  mean: 0.79185, std: 0.02888, params: {'gamma': 0.6},\n",
       "  mean: 0.79188, std: 0.02879, params: {'gamma': 0.7}],\n",
       " {'gamma': 0.4},\n",
       " 0.7931179475838919)"
      ]
     },
     "execution_count": 92,
     "metadata": {},
     "output_type": "execute_result"
    }
   ],
   "source": [
    "param_test3 = {\n",
    " 'gamma':[i/10.0 for i in range(0,8)]\n",
    "}\n",
    "gsearch3 = GridSearchCV(estimator = XGBClassifier( learning_rate =0.1, n_estimators=140, max_depth=2,\n",
    " min_child_weight=8, gamma=0, subsample=0.8, colsample_bytree=0.8,\n",
    " objective= 'binary:logistic', nthread=4, scale_pos_weight=1,seed=27), \n",
    " param_grid = param_test3, scoring='roc_auc',n_jobs=4,iid=False, cv=5)\n",
    "gsearch3.fit(train[predictors],train[target])\n",
    "gsearch3.grid_scores_, gsearch3.best_params_, gsearch3.best_score_"
   ]
  },
  {
   "cell_type": "code",
   "execution_count": 93,
   "metadata": {},
   "outputs": [
    {
     "name": "stdout",
     "output_type": "stream",
     "text": [
      "\n",
      "Model Report\n",
      "Accuracy : 0.8094\n",
      "AUC Score (Train): 0.819665\n"
     ]
    },
    {
     "data": {
      "text/plain": [
       "([mean: 0.79086, std: 0.03100, params: {'min_child_weight': 6},\n",
       "  mean: 0.79267, std: 0.02787, params: {'min_child_weight': 8},\n",
       "  mean: 0.77197, std: 0.03155, params: {'min_child_weight': 10},\n",
       "  mean: 0.75919, std: 0.03282, params: {'min_child_weight': 12}],\n",
       " {'min_child_weight': 8},\n",
       " 0.7926677270098323)"
      ]
     },
     "execution_count": 93,
     "metadata": {},
     "output_type": "execute_result"
    },
    {
     "data": {
      "image/png": "[encoded data removed]",
      "text/plain": [
       "<matplotlib.figure.Figure at 0x254dc58f470>"
      ]
     },
     "metadata": {},
     "output_type": "display_data"
    }
   ],
   "source": [
    "modelfit(gsearch3.best_estimator_, train, predictors)\n",
    "gsearch2b.grid_scores_, gsearch2b.best_params_, gsearch2b.best_score_"
   ]
  },
  {
   "cell_type": "code",
   "execution_count": 94,
   "metadata": {},
   "outputs": [
    {
     "name": "stdout",
     "output_type": "stream",
     "text": [
      "\n",
      "Model Report\n",
      "Accuracy : 0.8094\n",
      "AUC Score (Train): 0.819665\n"
     ]
    },
    {
     "data": {
      "image/png": "[encoded data removed]",
      "text/plain": [
       "<matplotlib.figure.Figure at 0x254dc6efb70>"
      ]
     },
     "metadata": {},
     "output_type": "display_data"
    }
   ],
   "source": [
    "# Second classifier\n",
    "xgb2 = XGBClassifier(\n",
    " learning_rate =0.1,\n",
    " n_estimators=140,\n",
    " max_depth=2,\n",
    " min_child_weight=8,\n",
    " gamma=0.4,\n",
    " subsample=0.8,\n",
    " colsample_bytree=0.8,\n",
    " objective= 'binary:logistic',\n",
    " nthread=4,\n",
    " scale_pos_weight=1,\n",
    " seed=27)\n",
    "modelfit(xgb2, train, predictors)"
   ]
  },
  {
   "cell_type": "markdown",
   "metadata": {},
   "source": [
    "#### Searching the best 'subsample' & 'colsample_bytree' values"
   ]
  },
  {
   "cell_type": "code",
   "execution_count": 95,
   "metadata": {},
   "outputs": [
    {
     "data": {
      "text/plain": [
       "([mean: 0.77862, std: 0.03447, params: {'colsample_bytree': 0.6, 'subsample': 0.6},\n",
       "  mean: 0.78840, std: 0.02939, params: {'colsample_bytree': 0.6, 'subsample': 0.7},\n",
       "  mean: 0.79269, std: 0.02762, params: {'colsample_bytree': 0.6, 'subsample': 0.8},\n",
       "  mean: 0.78976, std: 0.03153, params: {'colsample_bytree': 0.6, 'subsample': 0.9},\n",
       "  mean: 0.77862, std: 0.03447, params: {'colsample_bytree': 0.7, 'subsample': 0.6},\n",
       "  mean: 0.78840, std: 0.02939, params: {'colsample_bytree': 0.7, 'subsample': 0.7},\n",
       "  mean: 0.79269, std: 0.02762, params: {'colsample_bytree': 0.7, 'subsample': 0.8},\n",
       "  mean: 0.78976, std: 0.03153, params: {'colsample_bytree': 0.7, 'subsample': 0.9},\n",
       "  mean: 0.76953, std: 0.03458, params: {'colsample_bytree': 0.8, 'subsample': 0.6},\n",
       "  mean: 0.77648, std: 0.03435, params: {'colsample_bytree': 0.8, 'subsample': 0.7},\n",
       "  mean: 0.79312, std: 0.02870, params: {'colsample_bytree': 0.8, 'subsample': 0.8},\n",
       "  mean: 0.78773, std: 0.03657, params: {'colsample_bytree': 0.8, 'subsample': 0.9},\n",
       "  mean: 0.76953, std: 0.03458, params: {'colsample_bytree': 0.9, 'subsample': 0.6},\n",
       "  mean: 0.77648, std: 0.03435, params: {'colsample_bytree': 0.9, 'subsample': 0.7},\n",
       "  mean: 0.79312, std: 0.02870, params: {'colsample_bytree': 0.9, 'subsample': 0.8},\n",
       "  mean: 0.78773, std: 0.03657, params: {'colsample_bytree': 0.9, 'subsample': 0.9}],\n",
       " {'colsample_bytree': 0.8, 'subsample': 0.8},\n",
       " 0.7931179475838919)"
      ]
     },
     "execution_count": 95,
     "metadata": {},
     "output_type": "execute_result"
    }
   ],
   "source": [
    "param_test4 = {\n",
    " 'subsample':[i/10.0 for i in range(6,10)],\n",
    " 'colsample_bytree':[i/10.0 for i in range(6,10)]\n",
    "}\n",
    "gsearch4 = GridSearchCV(estimator = XGBClassifier( learning_rate =0.1, n_estimators=140, max_depth=2,\n",
    " min_child_weight=8, gamma=0.4, subsample=0.8, colsample_bytree=0.8,\n",
    " objective= 'binary:logistic', nthread=4, scale_pos_weight=1,seed=27), \n",
    " param_grid = param_test4, scoring='roc_auc',n_jobs=4,iid=False, cv=5)\n",
    "gsearch4.fit(train[predictors],train[target])\n",
    "gsearch4.grid_scores_, gsearch4.best_params_, gsearch4.best_score_"
   ]
  },
  {
   "cell_type": "code",
   "execution_count": 96,
   "metadata": {},
   "outputs": [
    {
     "data": {
      "text/plain": [
       "GridSearchCV(cv=5, error_score='raise',\n",
       "       estimator=XGBClassifier(base_score=0.5, booster='gbtree', colsample_bylevel=1,\n",
       "       colsample_bytree=0.8, gamma=0.4, learning_rate=0.1,\n",
       "       max_delta_step=0, max_depth=2, min_child_weight=8, missing=None,\n",
       "       n_estimators=140, n_jobs=1, nthread=4, objective='binary:logistic',\n",
       "       random_state=0, reg_alpha=0, reg_lambda=1, scale_pos_weight=1,\n",
       "       seed=27, silent=True, subsample=0.8),\n",
       "       fit_params={}, iid=False, n_jobs=4,\n",
       "       param_grid={'subsample': [0.75, 0.8, 0.85], 'colsample_bytree': [0.75, 0.8, 0.85]},\n",
       "       pre_dispatch='2*n_jobs', refit=True, scoring='roc_auc', verbose=0)"
      ]
     },
     "execution_count": 96,
     "metadata": {},
     "output_type": "execute_result"
    }
   ],
   "source": [
    "param_test5 = {\n",
    " 'subsample':[i/100.0 for i in range(75,90,5)],\n",
    " 'colsample_bytree':[i/100.0 for i in range(75,90,5)]\n",
    "}\n",
    "gsearch5 = GridSearchCV(estimator = XGBClassifier( learning_rate =0.1, n_estimators=140, max_depth=2,\n",
    " min_child_weight=8, gamma=0.4, subsample=0.8, colsample_bytree=0.8,\n",
    " objective= 'binary:logistic', nthread=4, scale_pos_weight=1,seed=27), \n",
    " param_grid = param_test5, scoring='roc_auc',n_jobs=4,iid=False, cv=5)\n",
    "gsearch5.fit(train[predictors],train[target])"
   ]
  },
  {
   "cell_type": "markdown",
   "metadata": {},
   "source": [
    "#### Searching the best 'reg_alpha' values"
   ]
  },
  {
   "cell_type": "code",
   "execution_count": 97,
   "metadata": {},
   "outputs": [
    {
     "data": {
      "text/plain": [
       "([mean: 0.79312, std: 0.02870, params: {'reg_alpha': 1e-05},\n",
       "  mean: 0.79271, std: 0.02725, params: {'reg_alpha': 0.01},\n",
       "  mean: 0.79078, std: 0.02895, params: {'reg_alpha': 0.1},\n",
       "  mean: 0.78818, std: 0.03040, params: {'reg_alpha': 1},\n",
       "  mean: 0.70554, std: 0.04776, params: {'reg_alpha': 100}],\n",
       " {'reg_alpha': 1e-05},\n",
       " 0.7931179475838919)"
      ]
     },
     "execution_count": 97,
     "metadata": {},
     "output_type": "execute_result"
    }
   ],
   "source": [
    "param_test6 = {\n",
    " 'reg_alpha':[1e-5, 1e-2, 0.1, 1, 100]\n",
    "}\n",
    "gsearch6 = GridSearchCV(estimator = XGBClassifier( learning_rate =0.1, n_estimators=140, max_depth=2,\n",
    " min_child_weight=8, gamma=0.4, subsample=0.8, colsample_bytree=0.8,\n",
    " objective= 'binary:logistic', nthread=4, scale_pos_weight=1,seed=27), \n",
    " param_grid = param_test6, scoring='roc_auc',n_jobs=4,iid=False, cv=5)\n",
    "\n",
    "gsearch6.fit(train[predictors],train[target])\n",
    "gsearch6.grid_scores_, gsearch6.best_params_, gsearch6.best_score_"
   ]
  },
  {
   "cell_type": "code",
   "execution_count": 98,
   "metadata": {},
   "outputs": [
    {
     "data": {
      "text/plain": [
       "([mean: 0.79312, std: 0.02870, params: {'reg_alpha': 1e-05},\n",
       "  mean: 0.79271, std: 0.02725, params: {'reg_alpha': 0.01},\n",
       "  mean: 0.79078, std: 0.02895, params: {'reg_alpha': 0.1},\n",
       "  mean: 0.78818, std: 0.03040, params: {'reg_alpha': 1},\n",
       "  mean: 0.70554, std: 0.04776, params: {'reg_alpha': 100}],\n",
       " {'reg_alpha': 1e-05},\n",
       " 0.7931179475838919)"
      ]
     },
     "execution_count": 98,
     "metadata": {},
     "output_type": "execute_result"
    }
   ],
   "source": [
    "param_test7 = {\n",
    " 'reg_alpha':[1e-6, 1e-5, 1e-4]\n",
    "}\n",
    "gsearch7 = GridSearchCV(estimator = XGBClassifier( learning_rate =0.1, n_estimators=140, max_depth=2,\n",
    " min_child_weight=8, gamma=0.4, subsample=0.8, colsample_bytree=0.8,\n",
    " objective= 'binary:logistic', nthread=4, scale_pos_weight=1,seed=27), \n",
    " param_grid = param_test6, scoring='roc_auc',n_jobs=4,iid=False, cv=5)\n",
    "gsearch7.fit(train[predictors],train[target])\n",
    "gsearch7.grid_scores_, gsearch7.best_params_, gsearch7.best_score_"
   ]
  },
  {
   "cell_type": "markdown",
   "metadata": {},
   "source": [
    "#### Building the optimized model"
   ]
  },
  {
   "cell_type": "code",
   "execution_count": 99,
   "metadata": {},
   "outputs": [
    {
     "name": "stdout",
     "output_type": "stream",
     "text": [
      "\n",
      "Model Report\n",
      "Accuracy : 0.8094\n",
      "AUC Score (Train): 0.819665\n"
     ]
    },
    {
     "data": {
      "image/png": "[encoded data removed]",
      "text/plain": [
       "<matplotlib.figure.Figure at 0x254dcfe4b38>"
      ]
     },
     "metadata": {},
     "output_type": "display_data"
    }
   ],
   "source": [
    "# Third classifier\n",
    "xgb3 = XGBClassifier(\n",
    " learning_rate =0.1,\n",
    " n_estimators=110,\n",
    " max_depth=2,\n",
    " min_child_weight=8,\n",
    " gamma=0.4,\n",
    " subsample=0.8,\n",
    " colsample_bytree=0.8,\n",
    " reg_alpha=1e-05,\n",
    " objective= 'binary:logistic',\n",
    " nthread=4,\n",
    " scale_pos_weight=1,\n",
    " seed=27,\n",
    " n_jobs=300)\n",
    "modelfit(xgb3, train, predictors)"
   ]
  },
  {
   "cell_type": "code",
   "execution_count": 100,
   "metadata": {},
   "outputs": [
    {
     "name": "stdout",
     "output_type": "stream",
     "text": [
      "Accuracy : 80.945%\n",
      "Cross-Validation Score : 80.946%\n"
     ]
    }
   ],
   "source": [
    "classification_model(xgb3, train,predictors,outcome_var)"
   ]
  },
  {
   "cell_type": "code",
   "execution_count": 103,
   "metadata": {},
   "outputs": [],
   "source": [
    "# Saving the prediction of the Test to the disc\n",
    "test2 = test[predictors].copy()\n",
    "submit = test['Loan_ID']\n",
    "preds = xgb3.predict(test2)\n",
    "preds = pd.Series(preds)\n",
    "submit = pd.concat([submit, preds], names=['Loan_ID', 'Loan_Status'], axis=1)\n",
    "submit.columns = ['Loan_ID', 'Loan_Status']\n",
    "submit['Loan_Status'] = submit['Loan_Status'].map({1:'Y', 0:'N'})\n",
    "submit.to_csv('submit/xgboost_tweaked.csv', index=False)"
   ]
  },
  {
   "cell_type": "markdown",
   "metadata": {},
   "source": [
    "## LinearDiscriminantAnalysis"
   ]
  },
  {
   "cell_type": "code",
   "execution_count": 110,
   "metadata": {},
   "outputs": [
    {
     "name": "stdout",
     "output_type": "stream",
     "text": [
      "Accuracy : 80.945%\n",
      "Cross-Validation Score : 80.782%\n"
     ]
    }
   ],
   "source": [
    "# Predicting with the LinearDiscriminantAnalysis model\n",
    "model = LinearDiscriminantAnalysis()\n",
    "predictor_var = [\n",
    " 'Property_Area',\n",
    " 'Credit_History',\n",
    " 'Loan_PM_TotInc_log',\n",
    " 'Loan_PM_PCapita_log'\n",
    "]\n",
    "classification_model(model, train,predictor_var,outcome_var)"
   ]
  },
  {
   "cell_type": "code",
   "execution_count": 111,
   "metadata": {},
   "outputs": [],
   "source": [
    "# Saving the prediction of the Test to the disc\n",
    "test2 = test[predictor_var].copy()\n",
    "submit = test['Loan_ID']\n",
    "preds = model.predict(test2)\n",
    "preds = pd.Series(preds)\n",
    "submit = pd.concat([submit, preds], names=['Loan_ID', 'Loan_Status'], axis=1)\n",
    "submit.columns = ['Loan_ID', 'Loan_Status']\n",
    "submit['Loan_Status'] = submit['Loan_Status'].map({1:'Y', 0:'N'})\n",
    "submit.to_csv('submit/LinearDiscriminantAnalysis.csv', index=False)"
   ]
  },
  {
   "cell_type": "markdown",
   "metadata": {},
   "source": [
    " "
   ]
  },
  {
   "cell_type": "markdown",
   "metadata": {},
   "source": [
    "## Conclusion"
   ]
  },
  {
   "cell_type": "markdown",
   "metadata": {},
   "source": [
    "#### These are the results of the modeling:  "
   ]
  },
  {
   "cell_type": "markdown",
   "metadata": {},
   "source": [
    "| Model | Accuracy         \n",
    "| :- |:-------------|\n",
    "|KNN| 0.777777777777778  \n",
    "|Gaussian Naive Bayes| 0.777777777777778  \n",
    "|__SVM__| __0.784722222222222__  \n",
    "|__XGBoost__| __0.784722222222222__  \n",
    "|Linear Discriminant Analysis| 0.777777777777778  \n",
    "|Ensemble| 0.777777777777778  "
   ]
  },
  {
   "cell_type": "markdown",
   "metadata": {},
   "source": [
    "### The best predictive models are:\n",
    "* SVM\n",
    "* XGBoost"
   ]
  },
  {
   "cell_type": "code",
   "execution_count": null,
   "metadata": {
    "collapsed": true
   },
   "outputs": [],
   "source": []
  }
 ],
 "metadata": {
  "anaconda-cloud": {},
  "kernelspec": {
   "display_name": "Python 3",
   "language": "python",
   "name": "python3"
  },
  "language_info": {
   "codemirror_mode": {
    "name": "ipython",
    "version": 3
   },
   "file_extension": ".py",
   "mimetype": "text/x-python",
   "name": "python",
   "nbconvert_exporter": "python",
   "pygments_lexer": "ipython3",
   "version": "3.6.3"
  }
 },
 "nbformat": 4,
 "nbformat_minor": 2
}
